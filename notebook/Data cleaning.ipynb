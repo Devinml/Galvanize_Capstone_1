{
 "cells": [
  {
   "cell_type": "code",
   "execution_count": 1,
   "metadata": {},
   "outputs": [],
   "source": [
    "import pandas as pd\n",
    "import matplotlib.pyplot as plt"
   ]
  },
  {
   "cell_type": "code",
   "execution_count": 2,
   "metadata": {},
   "outputs": [],
   "source": [
    "df1 = pd.read_csv('../data/data_work.csv')\n",
    "df2 = pd.read_csv('../data/data_work_2.csv')\n"
   ]
  },
  {
   "cell_type": "code",
   "execution_count": null,
   "metadata": {},
   "outputs": [],
   "source": [
    "df1.info()"
   ]
  },
  {
   "cell_type": "code",
   "execution_count": null,
   "metadata": {},
   "outputs": [],
   "source": [
    "df2.info()\n"
   ]
  },
  {
   "cell_type": "code",
   "execution_count": null,
   "metadata": {},
   "outputs": [],
   "source": [
    "df1.head()"
   ]
  },
  {
   "cell_type": "code",
   "execution_count": 3,
   "metadata": {},
   "outputs": [],
   "source": [
    "def Check_Material(string):\n",
    "    if string == 'Aluminium' or string == 'Carbon Fiber' or string == 'Chromoly' or string== 'Steel' or string =='Titanium':\n",
    "        return True\n",
    "    else:\n",
    "        return False\n",
    "    \n",
    "def convert_wheel_string(input_string):\n",
    "    if input_string == '29\"':\n",
    "        return 29\n",
    "    elif input_string == '27.5\"':\n",
    "        return 27.5\n",
    "def convert_string_flt(input_string):\n",
    "    nums = '1234567890.'\n",
    "    string = ''\n",
    "    for char in input_string:\n",
    "        if char in nums:\n",
    "            string+= char\n",
    "    return float(string)\n",
    "\n",
    "def check_rear_string(x):\n",
    "    if len(x)>3:\n",
    "        return True\n",
    "    else:\n",
    "        return False\n",
    "def rear_travel_clean(x):\n",
    "    if x ==\"Travel:\":\n",
    "        return False\n",
    "    else:\n",
    "        return True"
   ]
  },
  {
   "cell_type": "code",
   "execution_count": 4,
   "metadata": {},
   "outputs": [],
   "source": [
    "df1.drop(axis = 1,labels = 'Unnamed: 9',inplace=True)"
   ]
  },
  {
   "cell_type": "code",
   "execution_count": 5,
   "metadata": {},
   "outputs": [],
   "source": [
    "df1 = df1[df1['Material'].apply(lambda x : Check_Material(x))].copy()"
   ]
  },
  {
   "cell_type": "code",
   "execution_count": 6,
   "metadata": {},
   "outputs": [],
   "source": [
    "df1['Wheel_Size'] = df1['Wheel_Size'].apply(lambda x : convert_wheel_string(x))"
   ]
  },
  {
   "cell_type": "code",
   "execution_count": 7,
   "metadata": {},
   "outputs": [],
   "source": [
    "df1['Front_travel'] = df1['Front_travel'].apply(convert_string_flt)"
   ]
  },
  {
   "cell_type": "code",
   "execution_count": 8,
   "metadata": {},
   "outputs": [],
   "source": [
    "df1 = df1[df1['Rear_travel'].apply(rear_travel_clean)]\n",
    "df1['Rear_travel'] = df1['Rear_travel'].apply(convert_string_flt)"
   ]
  },
  {
   "cell_type": "code",
   "execution_count": 9,
   "metadata": {},
   "outputs": [],
   "source": [
    "df1['Price'] = df1['Price'].apply(convert_string_flt)"
   ]
  },
  {
   "cell_type": "code",
   "execution_count": 10,
   "metadata": {},
   "outputs": [],
   "source": [
    "def check_currancy(price,currancy,exch_rate=.74):\n",
    "    if currancy == 'CAD':\n",
    "        return price*exch_rate\n",
    "    else:\n",
    "        return price"
   ]
  },
  {
   "cell_type": "code",
   "execution_count": null,
   "metadata": {},
   "outputs": [],
   "source": []
  },
  {
   "cell_type": "code",
   "execution_count": null,
   "metadata": {},
   "outputs": [],
   "source": []
  },
  {
   "cell_type": "code",
   "execution_count": 12,
   "metadata": {},
   "outputs": [],
   "source": [
    "df1['Price']=df1[['Price','Currance']].apply(lambda x: check_currancy(x.Price,x.Currance),axis=1)"
   ]
  },
  {
   "cell_type": "code",
   "execution_count": null,
   "metadata": {},
   "outputs": [],
   "source": []
  },
  {
   "cell_type": "code",
   "execution_count": null,
   "metadata": {},
   "outputs": [],
   "source": []
  },
  {
   "cell_type": "code",
   "execution_count": null,
   "metadata": {},
   "outputs": [],
   "source": [
    "df2.loc[0,'Wheel Size']"
   ]
  },
  {
   "cell_type": "code",
   "execution_count": 11,
   "metadata": {},
   "outputs": [],
   "source": [
    "def clean_wheel_size_df2(string):\n",
    "    if string == '29':\n",
    "        return 29.0\n",
    "    elif string == '275  650B':\n",
    "        return 27.5\n",
    "    else:\n",
    "        return string"
   ]
  },
  {
   "cell_type": "code",
   "execution_count": 13,
   "metadata": {},
   "outputs": [],
   "source": [
    "df2['Wheel Size'] = df2[\"Wheel Size\"].apply(clean_wheel_size_df2)"
   ]
  },
  {
   "cell_type": "code",
   "execution_count": null,
   "metadata": {},
   "outputs": [],
   "source": [
    "type(df2.loc[0,'Wheel Size'])"
   ]
  },
  {
   "cell_type": "code",
   "execution_count": null,
   "metadata": {},
   "outputs": [],
   "source": [
    "df2.head()"
   ]
  },
  {
   "cell_type": "code",
   "execution_count": 14,
   "metadata": {},
   "outputs": [],
   "source": [
    "df2['Front Travel']=df2['Front Travel'].apply(convert_string_flt)"
   ]
  },
  {
   "cell_type": "code",
   "execution_count": 15,
   "metadata": {},
   "outputs": [],
   "source": [
    "df2['Rear Travel']=df2['Rear Travel'].apply(convert_string_flt)"
   ]
  },
  {
   "cell_type": "code",
   "execution_count": null,
   "metadata": {},
   "outputs": [],
   "source": []
  },
  {
   "cell_type": "code",
   "execution_count": 16,
   "metadata": {},
   "outputs": [],
   "source": [
    "def return_curr(string):\n",
    "    if 'USD' in string:\n",
    "        return 'USD'\n",
    "    elif 'CAD' in string:\n",
    "        return 'CAD'"
   ]
  },
  {
   "cell_type": "code",
   "execution_count": 17,
   "metadata": {},
   "outputs": [],
   "source": [
    "df2['Currance'] = df2['Price'].apply(return_curr)"
   ]
  },
  {
   "cell_type": "code",
   "execution_count": null,
   "metadata": {},
   "outputs": [],
   "source": [
    "df2.info()"
   ]
  },
  {
   "cell_type": "code",
   "execution_count": 18,
   "metadata": {},
   "outputs": [],
   "source": [
    "def remove_other_wheels(obj):\n",
    "    if type(obj)== float:\n",
    "        return True\n",
    "    else:\n",
    "        return False"
   ]
  },
  {
   "cell_type": "code",
   "execution_count": 19,
   "metadata": {},
   "outputs": [],
   "source": [
    "df2 = df2[df2['Wheel Size'].apply(remove_other_wheels)]"
   ]
  },
  {
   "cell_type": "code",
   "execution_count": null,
   "metadata": {},
   "outputs": [],
   "source": [
    "df2.info()"
   ]
  },
  {
   "cell_type": "code",
   "execution_count": 20,
   "metadata": {},
   "outputs": [],
   "source": [
    "def remove_resonable_trades(input_string):\n",
    "    if 'CAD' in input_string or 'USD' in input_string:\n",
    "        return True\n",
    "    else:\n",
    "        return False"
   ]
  },
  {
   "cell_type": "code",
   "execution_count": 21,
   "metadata": {},
   "outputs": [],
   "source": [
    "df2 = df2[df2['Price'].apply(lambda x : remove_resonable_trades(x))]"
   ]
  },
  {
   "cell_type": "code",
   "execution_count": null,
   "metadata": {},
   "outputs": [],
   "source": [
    "df2.info()"
   ]
  },
  {
   "cell_type": "code",
   "execution_count": 22,
   "metadata": {},
   "outputs": [],
   "source": [
    "df2['Price'] = df2['Price'].apply(convert_string_flt)"
   ]
  },
  {
   "cell_type": "code",
   "execution_count": null,
   "metadata": {},
   "outputs": [],
   "source": [
    "df2.head()"
   ]
  },
  {
   "cell_type": "code",
   "execution_count": 23,
   "metadata": {},
   "outputs": [],
   "source": [
    "df2['Price']=df2[['Price','Currance']].apply(lambda x: check_currancy(x['Price'],x['Currance']),axis=1)"
   ]
  },
  {
   "cell_type": "code",
   "execution_count": 25,
   "metadata": {},
   "outputs": [
    {
     "name": "stdout",
     "output_type": "stream",
     "text": [
      "<class 'pandas.core.frame.DataFrame'>\n",
      "Int64Index: 3307 entries, 0 to 3671\n",
      "Data columns (total 9 columns):\n",
      " #   Column        Non-Null Count  Dtype  \n",
      "---  ------        --------------  -----  \n",
      " 0   Title         3307 non-null   object \n",
      " 1   Condition     3307 non-null   object \n",
      " 2   Frame Size    3307 non-null   object \n",
      " 3   Wheel Size    3307 non-null   object \n",
      " 4   Material      3307 non-null   object \n",
      " 5   Front Travel  3307 non-null   float64\n",
      " 6   Rear Travel   3307 non-null   float64\n",
      " 7   Price         3307 non-null   float64\n",
      " 8   Currance      3307 non-null   object \n",
      "dtypes: float64(3), object(6)\n",
      "memory usage: 258.4+ KB\n"
     ]
    }
   ],
   "source": [
    "df2.info()"
   ]
  },
  {
   "cell_type": "code",
   "execution_count": null,
   "metadata": {},
   "outputs": [],
   "source": [
    "df1.head()"
   ]
  },
  {
   "cell_type": "code",
   "execution_count": 24,
   "metadata": {},
   "outputs": [
    {
     "name": "stdout",
     "output_type": "stream",
     "text": [
      "<class 'pandas.core.frame.DataFrame'>\n",
      "Int64Index: 616 entries, 1 to 2741\n",
      "Data columns (total 9 columns):\n",
      " #   Column        Non-Null Count  Dtype  \n",
      "---  ------        --------------  -----  \n",
      " 0   Title         616 non-null    object \n",
      " 1   Condition     616 non-null    object \n",
      " 2   Size          616 non-null    object \n",
      " 3   Wheel_Size    616 non-null    float64\n",
      " 4   Material      616 non-null    object \n",
      " 5   Front_travel  616 non-null    float64\n",
      " 6   Rear_travel   616 non-null    float64\n",
      " 7   Price         616 non-null    float64\n",
      " 8   Currance      616 non-null    object \n",
      "dtypes: float64(4), object(5)\n",
      "memory usage: 48.1+ KB\n"
     ]
    }
   ],
   "source": [
    "df1.info()"
   ]
  },
  {
   "cell_type": "code",
   "execution_count": 26,
   "metadata": {},
   "outputs": [],
   "source": [
    "df = pd.concat([df1,df2])"
   ]
  },
  {
   "cell_type": "code",
   "execution_count": 29,
   "metadata": {},
   "outputs": [
    {
     "data": {
      "text/html": [
       "<div>\n",
       "<style scoped>\n",
       "    .dataframe tbody tr th:only-of-type {\n",
       "        vertical-align: middle;\n",
       "    }\n",
       "\n",
       "    .dataframe tbody tr th {\n",
       "        vertical-align: top;\n",
       "    }\n",
       "\n",
       "    .dataframe thead th {\n",
       "        text-align: right;\n",
       "    }\n",
       "</style>\n",
       "<table border=\"1\" class=\"dataframe\">\n",
       "  <thead>\n",
       "    <tr style=\"text-align: right;\">\n",
       "      <th></th>\n",
       "      <th>Title</th>\n",
       "      <th>Condition</th>\n",
       "      <th>Size</th>\n",
       "      <th>Wheel_Size</th>\n",
       "      <th>Material</th>\n",
       "      <th>Front_travel</th>\n",
       "      <th>Rear_travel</th>\n",
       "      <th>Price</th>\n",
       "      <th>Currance</th>\n",
       "      <th>Frame Size</th>\n",
       "      <th>Wheel Size</th>\n",
       "      <th>Front Travel</th>\n",
       "      <th>Rear Travel</th>\n",
       "    </tr>\n",
       "  </thead>\n",
       "  <tbody>\n",
       "    <tr>\n",
       "      <th>1</th>\n",
       "      <td>Santa Cruz Tallboy A D build Large</td>\n",
       "      <td>Excellent</td>\n",
       "      <td>L</td>\n",
       "      <td>29.0</td>\n",
       "      <td>Aluminium</td>\n",
       "      <td>120.0</td>\n",
       "      <td>110.0</td>\n",
       "      <td>1800.0</td>\n",
       "      <td>USD</td>\n",
       "      <td>NaN</td>\n",
       "      <td>NaN</td>\n",
       "      <td>NaN</td>\n",
       "      <td>NaN</td>\n",
       "    </tr>\n",
       "    <tr>\n",
       "      <th>3</th>\n",
       "      <td>Kona Honzo ST</td>\n",
       "      <td>Excellent</td>\n",
       "      <td>XL</td>\n",
       "      <td>29.0</td>\n",
       "      <td>Steel</td>\n",
       "      <td>140.0</td>\n",
       "      <td>0.0</td>\n",
       "      <td>1850.0</td>\n",
       "      <td>CAD</td>\n",
       "      <td>NaN</td>\n",
       "      <td>NaN</td>\n",
       "      <td>NaN</td>\n",
       "      <td>NaN</td>\n",
       "    </tr>\n",
       "    <tr>\n",
       "      <th>5</th>\n",
       "      <td>Norco Sight A1</td>\n",
       "      <td>Excellent</td>\n",
       "      <td>L</td>\n",
       "      <td>29.0</td>\n",
       "      <td>Aluminium</td>\n",
       "      <td>160.0</td>\n",
       "      <td>150.0</td>\n",
       "      <td>3848.0</td>\n",
       "      <td>CAD</td>\n",
       "      <td>NaN</td>\n",
       "      <td>NaN</td>\n",
       "      <td>NaN</td>\n",
       "      <td>NaN</td>\n",
       "    </tr>\n",
       "    <tr>\n",
       "      <th>9</th>\n",
       "      <td>Transition Sentinel GX Alloy Large w/ 210mm Dr...</td>\n",
       "      <td>Good</td>\n",
       "      <td>L</td>\n",
       "      <td>29.0</td>\n",
       "      <td>Aluminium</td>\n",
       "      <td>160.0</td>\n",
       "      <td>140.0</td>\n",
       "      <td>2900.0</td>\n",
       "      <td>USD</td>\n",
       "      <td>NaN</td>\n",
       "      <td>NaN</td>\n",
       "      <td>NaN</td>\n",
       "      <td>NaN</td>\n",
       "    </tr>\n",
       "    <tr>\n",
       "      <th>10</th>\n",
       "      <td>NS Eccentric Chromo - Medium</td>\n",
       "      <td>Good</td>\n",
       "      <td>M</td>\n",
       "      <td>29.0</td>\n",
       "      <td>Chromoly</td>\n",
       "      <td>150.0</td>\n",
       "      <td>0.0</td>\n",
       "      <td>1600.0</td>\n",
       "      <td>USD</td>\n",
       "      <td>NaN</td>\n",
       "      <td>NaN</td>\n",
       "      <td>NaN</td>\n",
       "      <td>NaN</td>\n",
       "    </tr>\n",
       "  </tbody>\n",
       "</table>\n",
       "</div>"
      ],
      "text/plain": [
       "                                                Title  Condition Size  \\\n",
       "1                  Santa Cruz Tallboy A D build Large  Excellent    L   \n",
       "3                                       Kona Honzo ST  Excellent   XL   \n",
       "5                                      Norco Sight A1  Excellent    L   \n",
       "9   Transition Sentinel GX Alloy Large w/ 210mm Dr...       Good    L   \n",
       "10                       NS Eccentric Chromo - Medium       Good    M   \n",
       "\n",
       "    Wheel_Size   Material  Front_travel  Rear_travel   Price Currance  \\\n",
       "1         29.0  Aluminium         120.0        110.0  1800.0      USD   \n",
       "3         29.0      Steel         140.0          0.0  1850.0      CAD   \n",
       "5         29.0  Aluminium         160.0        150.0  3848.0      CAD   \n",
       "9         29.0  Aluminium         160.0        140.0  2900.0      USD   \n",
       "10        29.0   Chromoly         150.0          0.0  1600.0      USD   \n",
       "\n",
       "   Frame Size Wheel Size  Front Travel  Rear Travel  \n",
       "1         NaN        NaN           NaN          NaN  \n",
       "3         NaN        NaN           NaN          NaN  \n",
       "5         NaN        NaN           NaN          NaN  \n",
       "9         NaN        NaN           NaN          NaN  \n",
       "10        NaN        NaN           NaN          NaN  "
      ]
     },
     "execution_count": 29,
     "metadata": {},
     "output_type": "execute_result"
    }
   ],
   "source": [
    "df.head()"
   ]
  },
  {
   "cell_type": "code",
   "execution_count": 31,
   "metadata": {},
   "outputs": [
    {
     "data": {
      "text/plain": [
       "Index(['Title', 'Condition', 'Frame Size', 'Wheel Size', 'Material',\n",
       "       'Front Travel', 'Rear Travel', 'Price', 'Currance'],\n",
       "      dtype='object')"
      ]
     },
     "execution_count": 31,
     "metadata": {},
     "output_type": "execute_result"
    }
   ],
   "source": [
    "df2.columns"
   ]
  },
  {
   "cell_type": "code",
   "execution_count": 32,
   "metadata": {},
   "outputs": [
    {
     "data": {
      "text/plain": [
       "Index(['Title', 'Condition', 'Size', 'Wheel_Size', 'Material', 'Front_travel',\n",
       "       'Rear_travel', 'Price', 'Currance'],\n",
       "      dtype='object')"
      ]
     },
     "execution_count": 32,
     "metadata": {},
     "output_type": "execute_result"
    }
   ],
   "source": [
    "df1.columns"
   ]
  },
  {
   "cell_type": "code",
   "execution_count": null,
   "metadata": {},
   "outputs": [],
   "source": [
    "df2.rename(columns={'Frame'})"
   ]
  }
 ],
 "metadata": {
  "kernelspec": {
   "display_name": "Python 3",
   "language": "python",
   "name": "python3"
  },
  "language_info": {
   "codemirror_mode": {
    "name": "ipython",
    "version": 3
   },
   "file_extension": ".py",
   "mimetype": "text/x-python",
   "name": "python",
   "nbconvert_exporter": "python",
   "pygments_lexer": "ipython3",
   "version": "3.7.6"
  }
 },
 "nbformat": 4,
 "nbformat_minor": 4
}
