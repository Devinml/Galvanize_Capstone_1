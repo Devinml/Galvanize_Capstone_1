{
 "cells": [
  {
   "cell_type": "code",
   "execution_count": 1,
   "metadata": {},
   "outputs": [],
   "source": [
    "import pandas as pd\n",
    "import matplotlib.pyplot as plt"
   ]
  },
  {
   "cell_type": "code",
   "execution_count": 2,
   "metadata": {},
   "outputs": [],
   "source": [
    "df1 = pd.read_csv('../data/data_work.csv')\n",
    "df2 = pd.read_csv('../data/data_work_2.csv')\n"
   ]
  },
  {
   "cell_type": "code",
   "execution_count": 3,
   "metadata": {},
   "outputs": [
    {
     "name": "stdout",
     "output_type": "stream",
     "text": [
      "<class 'pandas.core.frame.DataFrame'>\n",
      "RangeIndex: 2744 entries, 0 to 2743\n",
      "Data columns (total 10 columns):\n",
      " #   Column        Non-Null Count  Dtype \n",
      "---  ------        --------------  ----- \n",
      " 0   Title         2744 non-null   object\n",
      " 1   Condition     2744 non-null   object\n",
      " 2   Size          2744 non-null   object\n",
      " 3   Wheel_Size    2744 non-null   object\n",
      " 4   Material      2744 non-null   object\n",
      " 5   Front_travel  2744 non-null   object\n",
      " 6   Rear_travel   2744 non-null   object\n",
      " 7   Price         2744 non-null   object\n",
      " 8   Currance      2744 non-null   object\n",
      " 9   Unnamed: 9    1 non-null      object\n",
      "dtypes: object(10)\n",
      "memory usage: 214.5+ KB\n"
     ]
    }
   ],
   "source": [
    "df1.info()"
   ]
  },
  {
   "cell_type": "code",
   "execution_count": 4,
   "metadata": {},
   "outputs": [
    {
     "name": "stdout",
     "output_type": "stream",
     "text": [
      "<class 'pandas.core.frame.DataFrame'>\n",
      "RangeIndex: 3672 entries, 0 to 3671\n",
      "Data columns (total 8 columns):\n",
      " #   Column        Non-Null Count  Dtype \n",
      "---  ------        --------------  ----- \n",
      " 0   Title         3672 non-null   object\n",
      " 1   Condition     3672 non-null   object\n",
      " 2   Frame Size    3672 non-null   object\n",
      " 3   Wheel Size    3672 non-null   object\n",
      " 4   Material      3672 non-null   object\n",
      " 5   Front Travel  3672 non-null   object\n",
      " 6   Rear Travel   3672 non-null   object\n",
      " 7   Price         3672 non-null   object\n",
      "dtypes: object(8)\n",
      "memory usage: 229.6+ KB\n"
     ]
    }
   ],
   "source": [
    "df2.info()\n"
   ]
  },
  {
   "cell_type": "code",
   "execution_count": 5,
   "metadata": {},
   "outputs": [
    {
     "data": {
      "text/html": [
       "<div>\n",
       "<style scoped>\n",
       "    .dataframe tbody tr th:only-of-type {\n",
       "        vertical-align: middle;\n",
       "    }\n",
       "\n",
       "    .dataframe tbody tr th {\n",
       "        vertical-align: top;\n",
       "    }\n",
       "\n",
       "    .dataframe thead th {\n",
       "        text-align: right;\n",
       "    }\n",
       "</style>\n",
       "<table border=\"1\" class=\"dataframe\">\n",
       "  <thead>\n",
       "    <tr style=\"text-align: right;\">\n",
       "      <th></th>\n",
       "      <th>Title</th>\n",
       "      <th>Condition</th>\n",
       "      <th>Size</th>\n",
       "      <th>Wheel_Size</th>\n",
       "      <th>Material</th>\n",
       "      <th>Front_travel</th>\n",
       "      <th>Rear_travel</th>\n",
       "      <th>Price</th>\n",
       "      <th>Currance</th>\n",
       "      <th>Unnamed: 9</th>\n",
       "    </tr>\n",
       "  </thead>\n",
       "  <tbody>\n",
       "    <tr>\n",
       "      <th>0</th>\n",
       "      <td>NS Carbon Define 130/150 Size Medium</td>\n",
       "      <td>Excellent</td>\n",
       "      <td>M</td>\n",
       "      <td>29\"</td>\n",
       "      <td>Carbon</td>\n",
       "      <td>160</td>\n",
       "      <td>155</td>\n",
       "      <td>4600</td>\n",
       "      <td>USD</td>\n",
       "      <td>NaN</td>\n",
       "    </tr>\n",
       "    <tr>\n",
       "      <th>1</th>\n",
       "      <td>Santa Cruz Tallboy A D build Large</td>\n",
       "      <td>Excellent</td>\n",
       "      <td>L</td>\n",
       "      <td>29\"</td>\n",
       "      <td>Aluminium</td>\n",
       "      <td>120</td>\n",
       "      <td>110</td>\n",
       "      <td>1800</td>\n",
       "      <td>USD</td>\n",
       "      <td>NaN</td>\n",
       "    </tr>\n",
       "    <tr>\n",
       "      <th>2</th>\n",
       "      <td>Santa Cruz Bronson C medium</td>\n",
       "      <td>Excellent</td>\n",
       "      <td>M</td>\n",
       "      <td>27.5\"</td>\n",
       "      <td>Carbon</td>\n",
       "      <td>150</td>\n",
       "      <td>150</td>\n",
       "      <td>2950</td>\n",
       "      <td>USD</td>\n",
       "      <td>NaN</td>\n",
       "    </tr>\n",
       "    <tr>\n",
       "      <th>3</th>\n",
       "      <td>Kona Honzo ST</td>\n",
       "      <td>Excellent</td>\n",
       "      <td>XL</td>\n",
       "      <td>29\"</td>\n",
       "      <td>Steel</td>\n",
       "      <td>140</td>\n",
       "      <td>0</td>\n",
       "      <td>2500</td>\n",
       "      <td>CAD</td>\n",
       "      <td>NaN</td>\n",
       "    </tr>\n",
       "    <tr>\n",
       "      <th>4</th>\n",
       "      <td>Intense Primer 275 Medium Blue Expert</td>\n",
       "      <td>New</td>\n",
       "      <td>Wheel</td>\n",
       "      <td>Material:</td>\n",
       "      <td>29\"</td>\n",
       "      <td>Front</td>\n",
       "      <td>Rear</td>\n",
       "      <td>3799</td>\n",
       "      <td>USD</td>\n",
       "      <td>NaN</td>\n",
       "    </tr>\n",
       "  </tbody>\n",
       "</table>\n",
       "</div>"
      ],
      "text/plain": [
       "                                   Title  Condition   Size Wheel_Size  \\\n",
       "0   NS Carbon Define 130/150 Size Medium  Excellent      M        29\"   \n",
       "1     Santa Cruz Tallboy A D build Large  Excellent      L        29\"   \n",
       "2            Santa Cruz Bronson C medium  Excellent      M      27.5\"   \n",
       "3                          Kona Honzo ST  Excellent     XL        29\"   \n",
       "4  Intense Primer 275 Medium Blue Expert        New  Wheel  Material:   \n",
       "\n",
       "    Material Front_travel Rear_travel Price Currance Unnamed: 9  \n",
       "0     Carbon          160         155  4600      USD        NaN  \n",
       "1  Aluminium          120         110  1800      USD        NaN  \n",
       "2     Carbon          150         150  2950      USD        NaN  \n",
       "3      Steel          140           0  2500      CAD        NaN  \n",
       "4        29\"        Front        Rear  3799      USD        NaN  "
      ]
     },
     "execution_count": 5,
     "metadata": {},
     "output_type": "execute_result"
    }
   ],
   "source": [
    "df1.head()"
   ]
  },
  {
   "cell_type": "code",
   "execution_count": 6,
   "metadata": {},
   "outputs": [],
   "source": [
    "def Check_Material(string):\n",
    "    if string == 'Aluminium' or string == 'Carbon Fiber' or string == 'Chromoly' or string== 'Steel' or string =='Titanium':\n",
    "        return True\n",
    "    else:\n",
    "        return False\n",
    "    \n",
    "def convert_wheel_string(input_string):\n",
    "    if input_string == '29\"':\n",
    "        return 29\n",
    "    elif input_string == '27.5\"':\n",
    "        return 27.5\n",
    "def convert_string_flt(input_string):\n",
    "    nums = '1234567890.'\n",
    "    string = ''\n",
    "    for char in input_string:\n",
    "        if char in nums:\n",
    "            string+= char\n",
    "    return float(string)\n",
    "\n",
    "def check_rear_string(x):\n",
    "    if len(x)>3:\n",
    "        return True\n",
    "    else:\n",
    "        return False\n",
    "def rear_travel_clean(x):\n",
    "    if x ==\"Travel:\":\n",
    "        return False\n",
    "    else:\n",
    "        return True"
   ]
  },
  {
   "cell_type": "code",
   "execution_count": 7,
   "metadata": {},
   "outputs": [],
   "source": [
    "df1.drop(axis = 1,labels = 'Unnamed: 9',inplace=True)"
   ]
  },
  {
   "cell_type": "code",
   "execution_count": 8,
   "metadata": {},
   "outputs": [],
   "source": [
    "df1 = df1[df1['Material'].apply(lambda x : Check_Material(x))].copy()"
   ]
  },
  {
   "cell_type": "code",
   "execution_count": 9,
   "metadata": {},
   "outputs": [],
   "source": [
    "df1['Wheel_Size'] = df1['Wheel_Size'].apply(lambda x : convert_wheel_string(x))"
   ]
  },
  {
   "cell_type": "code",
   "execution_count": 10,
   "metadata": {},
   "outputs": [],
   "source": [
    "df1['Front_travel'] = df1['Front_travel'].apply(convert_string_flt)"
   ]
  },
  {
   "cell_type": "code",
   "execution_count": 11,
   "metadata": {},
   "outputs": [],
   "source": [
    "df1 = df1[df1['Rear_travel'].apply(rear_travel_clean)]\n",
    "df1['Rear_travel'] = df1['Rear_travel'].apply(convert_string_flt)"
   ]
  },
  {
   "cell_type": "code",
   "execution_count": 12,
   "metadata": {},
   "outputs": [],
   "source": [
    "df1['Price'] = df1['Price'].apply(convert_string_flt)"
   ]
  },
  {
   "cell_type": "code",
   "execution_count": 13,
   "metadata": {},
   "outputs": [],
   "source": [
    "def check_currancy(price,currancy,exch_rate=.74):\n",
    "    if currancy == 'CAD':\n",
    "        return price*exch_rate\n",
    "    else:\n",
    "        return price"
   ]
  },
  {
   "cell_type": "code",
   "execution_count": null,
   "metadata": {},
   "outputs": [],
   "source": []
  },
  {
   "cell_type": "code",
   "execution_count": null,
   "metadata": {},
   "outputs": [],
   "source": []
  },
  {
   "cell_type": "code",
   "execution_count": 14,
   "metadata": {},
   "outputs": [],
   "source": [
    "df1['Price']=df1[['Price','Currance']].apply(lambda x: check_currancy(x.Price,x.Currance),axis=1)"
   ]
  },
  {
   "cell_type": "code",
   "execution_count": null,
   "metadata": {},
   "outputs": [],
   "source": []
  },
  {
   "cell_type": "code",
   "execution_count": null,
   "metadata": {},
   "outputs": [],
   "source": []
  },
  {
   "cell_type": "code",
   "execution_count": 15,
   "metadata": {},
   "outputs": [
    {
     "data": {
      "text/plain": [
       "'29'"
      ]
     },
     "execution_count": 15,
     "metadata": {},
     "output_type": "execute_result"
    }
   ],
   "source": [
    "df2.loc[0,'Wheel Size']"
   ]
  },
  {
   "cell_type": "code",
   "execution_count": 16,
   "metadata": {},
   "outputs": [],
   "source": [
    "def clean_wheel_size_df2(string):\n",
    "    if string == '29':\n",
    "        return 29.0\n",
    "    elif string == '275  650B':\n",
    "        return 27.5\n",
    "    else:\n",
    "        return string"
   ]
  },
  {
   "cell_type": "code",
   "execution_count": 17,
   "metadata": {},
   "outputs": [],
   "source": [
    "df2['Wheel Size'] = df2[\"Wheel Size\"].apply(clean_wheel_size_df2)"
   ]
  },
  {
   "cell_type": "code",
   "execution_count": 18,
   "metadata": {},
   "outputs": [
    {
     "data": {
      "text/plain": [
       "float"
      ]
     },
     "execution_count": 18,
     "metadata": {},
     "output_type": "execute_result"
    }
   ],
   "source": [
    "type(df2.loc[0,'Wheel Size'])"
   ]
  },
  {
   "cell_type": "code",
   "execution_count": 19,
   "metadata": {},
   "outputs": [
    {
     "data": {
      "text/html": [
       "<div>\n",
       "<style scoped>\n",
       "    .dataframe tbody tr th:only-of-type {\n",
       "        vertical-align: middle;\n",
       "    }\n",
       "\n",
       "    .dataframe tbody tr th {\n",
       "        vertical-align: top;\n",
       "    }\n",
       "\n",
       "    .dataframe thead th {\n",
       "        text-align: right;\n",
       "    }\n",
       "</style>\n",
       "<table border=\"1\" class=\"dataframe\">\n",
       "  <thead>\n",
       "    <tr style=\"text-align: right;\">\n",
       "      <th></th>\n",
       "      <th>Title</th>\n",
       "      <th>Condition</th>\n",
       "      <th>Frame Size</th>\n",
       "      <th>Wheel Size</th>\n",
       "      <th>Material</th>\n",
       "      <th>Front Travel</th>\n",
       "      <th>Rear Travel</th>\n",
       "      <th>Price</th>\n",
       "    </tr>\n",
       "  </thead>\n",
       "  <tbody>\n",
       "    <tr>\n",
       "      <th>0</th>\n",
       "      <td>2019 Specialized Stumpjumper Short Travel Comp...</td>\n",
       "      <td>Excellent</td>\n",
       "      <td>XL</td>\n",
       "      <td>29</td>\n",
       "      <td>Carbon Fiber</td>\n",
       "      <td>130 mm</td>\n",
       "      <td>120 mm</td>\n",
       "      <td>3000 USD</td>\n",
       "    </tr>\n",
       "    <tr>\n",
       "      <th>1</th>\n",
       "      <td>2018 Santa Cruz Chameleon</td>\n",
       "      <td>Excellent</td>\n",
       "      <td>XL</td>\n",
       "      <td>29</td>\n",
       "      <td>Aluminium</td>\n",
       "      <td>140 mm</td>\n",
       "      <td>0 mm Hardtail</td>\n",
       "      <td>2500 CAD</td>\n",
       "    </tr>\n",
       "    <tr>\n",
       "      <th>2</th>\n",
       "      <td>2018 Large Chromag Primer</td>\n",
       "      <td>Excellent</td>\n",
       "      <td>L</td>\n",
       "      <td>29</td>\n",
       "      <td>Chromoly</td>\n",
       "      <td>160 mm</td>\n",
       "      <td>0 mm Hardtail</td>\n",
       "      <td>3200 CAD</td>\n",
       "    </tr>\n",
       "    <tr>\n",
       "      <th>3</th>\n",
       "      <td>2015 Cove Hustler</td>\n",
       "      <td>Excellent</td>\n",
       "      <td>18</td>\n",
       "      <td>27.5</td>\n",
       "      <td>Aluminium</td>\n",
       "      <td>160 mm</td>\n",
       "      <td>150 mm</td>\n",
       "      <td>2375 CAD</td>\n",
       "    </tr>\n",
       "    <tr>\n",
       "      <th>4</th>\n",
       "      <td>2019 Pivot Firebird 29</td>\n",
       "      <td>Good</td>\n",
       "      <td>L</td>\n",
       "      <td>29</td>\n",
       "      <td>Carbon Fiber</td>\n",
       "      <td>170 mm</td>\n",
       "      <td>160 mm</td>\n",
       "      <td>4500 USD</td>\n",
       "    </tr>\n",
       "  </tbody>\n",
       "</table>\n",
       "</div>"
      ],
      "text/plain": [
       "                                               Title  Condition Frame Size  \\\n",
       "0  2019 Specialized Stumpjumper Short Travel Comp...  Excellent         XL   \n",
       "1                          2018 Santa Cruz Chameleon  Excellent         XL   \n",
       "2                          2018 Large Chromag Primer  Excellent          L   \n",
       "3                                  2015 Cove Hustler  Excellent         18   \n",
       "4                             2019 Pivot Firebird 29       Good          L   \n",
       "\n",
       "  Wheel Size      Material Front Travel    Rear Travel     Price  \n",
       "0         29  Carbon Fiber       130 mm         120 mm  3000 USD  \n",
       "1         29     Aluminium       140 mm  0 mm Hardtail  2500 CAD  \n",
       "2         29      Chromoly       160 mm  0 mm Hardtail  3200 CAD  \n",
       "3       27.5     Aluminium       160 mm         150 mm  2375 CAD  \n",
       "4         29  Carbon Fiber       170 mm         160 mm  4500 USD  "
      ]
     },
     "execution_count": 19,
     "metadata": {},
     "output_type": "execute_result"
    }
   ],
   "source": [
    "df2.head()"
   ]
  },
  {
   "cell_type": "code",
   "execution_count": 20,
   "metadata": {},
   "outputs": [],
   "source": [
    "df2['Front Travel']=df2['Front Travel'].apply(convert_string_flt)"
   ]
  },
  {
   "cell_type": "code",
   "execution_count": 21,
   "metadata": {},
   "outputs": [],
   "source": [
    "df2['Rear Travel']=df2['Rear Travel'].apply(convert_string_flt)"
   ]
  },
  {
   "cell_type": "code",
   "execution_count": null,
   "metadata": {},
   "outputs": [],
   "source": []
  },
  {
   "cell_type": "code",
   "execution_count": 22,
   "metadata": {},
   "outputs": [],
   "source": [
    "def return_curr(string):\n",
    "    if 'USD' in string:\n",
    "        return 'USD'\n",
    "    elif 'CAD' in string:\n",
    "        return 'CAD'"
   ]
  },
  {
   "cell_type": "code",
   "execution_count": 23,
   "metadata": {},
   "outputs": [],
   "source": [
    "df2['Currance'] = df2['Price'].apply(return_curr)"
   ]
  },
  {
   "cell_type": "code",
   "execution_count": 24,
   "metadata": {},
   "outputs": [
    {
     "name": "stdout",
     "output_type": "stream",
     "text": [
      "<class 'pandas.core.frame.DataFrame'>\n",
      "RangeIndex: 3672 entries, 0 to 3671\n",
      "Data columns (total 9 columns):\n",
      " #   Column        Non-Null Count  Dtype  \n",
      "---  ------        --------------  -----  \n",
      " 0   Title         3672 non-null   object \n",
      " 1   Condition     3672 non-null   object \n",
      " 2   Frame Size    3672 non-null   object \n",
      " 3   Wheel Size    3672 non-null   object \n",
      " 4   Material      3672 non-null   object \n",
      " 5   Front Travel  3672 non-null   float64\n",
      " 6   Rear Travel   3672 non-null   float64\n",
      " 7   Price         3672 non-null   object \n",
      " 8   Currance      3588 non-null   object \n",
      "dtypes: float64(2), object(7)\n",
      "memory usage: 258.3+ KB\n"
     ]
    }
   ],
   "source": [
    "df2.info()"
   ]
  },
  {
   "cell_type": "code",
   "execution_count": 25,
   "metadata": {},
   "outputs": [],
   "source": [
    "def remove_other_wheels(obj):\n",
    "    if type(obj)== float:\n",
    "        return True\n",
    "    else:\n",
    "        return False"
   ]
  },
  {
   "cell_type": "code",
   "execution_count": 26,
   "metadata": {},
   "outputs": [],
   "source": [
    "df2 = df2[df2['Wheel Size'].apply(remove_other_wheels)]"
   ]
  },
  {
   "cell_type": "code",
   "execution_count": 27,
   "metadata": {},
   "outputs": [
    {
     "name": "stdout",
     "output_type": "stream",
     "text": [
      "<class 'pandas.core.frame.DataFrame'>\n",
      "Int64Index: 3356 entries, 0 to 3671\n",
      "Data columns (total 9 columns):\n",
      " #   Column        Non-Null Count  Dtype  \n",
      "---  ------        --------------  -----  \n",
      " 0   Title         3356 non-null   object \n",
      " 1   Condition     3356 non-null   object \n",
      " 2   Frame Size    3356 non-null   object \n",
      " 3   Wheel Size    3356 non-null   object \n",
      " 4   Material      3356 non-null   object \n",
      " 5   Front Travel  3356 non-null   float64\n",
      " 6   Rear Travel   3356 non-null   float64\n",
      " 7   Price         3356 non-null   object \n",
      " 8   Currance      3307 non-null   object \n",
      "dtypes: float64(2), object(7)\n",
      "memory usage: 262.2+ KB\n"
     ]
    }
   ],
   "source": [
    "df2.info()"
   ]
  },
  {
   "cell_type": "code",
   "execution_count": 28,
   "metadata": {},
   "outputs": [],
   "source": [
    "def remove_resonable_trades(input_string):\n",
    "    if 'CAD' in input_string or 'USD' in input_string:\n",
    "        return True\n",
    "    else:\n",
    "        return False"
   ]
  },
  {
   "cell_type": "code",
   "execution_count": 29,
   "metadata": {},
   "outputs": [],
   "source": [
    "df2 = df2[df2['Price'].apply(lambda x : remove_resonable_trades(x))]"
   ]
  },
  {
   "cell_type": "code",
   "execution_count": 30,
   "metadata": {},
   "outputs": [
    {
     "name": "stdout",
     "output_type": "stream",
     "text": [
      "<class 'pandas.core.frame.DataFrame'>\n",
      "Int64Index: 3307 entries, 0 to 3671\n",
      "Data columns (total 9 columns):\n",
      " #   Column        Non-Null Count  Dtype  \n",
      "---  ------        --------------  -----  \n",
      " 0   Title         3307 non-null   object \n",
      " 1   Condition     3307 non-null   object \n",
      " 2   Frame Size    3307 non-null   object \n",
      " 3   Wheel Size    3307 non-null   object \n",
      " 4   Material      3307 non-null   object \n",
      " 5   Front Travel  3307 non-null   float64\n",
      " 6   Rear Travel   3307 non-null   float64\n",
      " 7   Price         3307 non-null   object \n",
      " 8   Currance      3307 non-null   object \n",
      "dtypes: float64(2), object(7)\n",
      "memory usage: 258.4+ KB\n"
     ]
    }
   ],
   "source": [
    "df2.info()"
   ]
  },
  {
   "cell_type": "code",
   "execution_count": 31,
   "metadata": {},
   "outputs": [],
   "source": [
    "df2['Price'] = df2['Price'].apply(convert_string_flt)"
   ]
  },
  {
   "cell_type": "code",
   "execution_count": 32,
   "metadata": {},
   "outputs": [
    {
     "data": {
      "text/html": [
       "<div>\n",
       "<style scoped>\n",
       "    .dataframe tbody tr th:only-of-type {\n",
       "        vertical-align: middle;\n",
       "    }\n",
       "\n",
       "    .dataframe tbody tr th {\n",
       "        vertical-align: top;\n",
       "    }\n",
       "\n",
       "    .dataframe thead th {\n",
       "        text-align: right;\n",
       "    }\n",
       "</style>\n",
       "<table border=\"1\" class=\"dataframe\">\n",
       "  <thead>\n",
       "    <tr style=\"text-align: right;\">\n",
       "      <th></th>\n",
       "      <th>Title</th>\n",
       "      <th>Condition</th>\n",
       "      <th>Frame Size</th>\n",
       "      <th>Wheel Size</th>\n",
       "      <th>Material</th>\n",
       "      <th>Front Travel</th>\n",
       "      <th>Rear Travel</th>\n",
       "      <th>Price</th>\n",
       "      <th>Currance</th>\n",
       "    </tr>\n",
       "  </thead>\n",
       "  <tbody>\n",
       "    <tr>\n",
       "      <th>0</th>\n",
       "      <td>2019 Specialized Stumpjumper Short Travel Comp...</td>\n",
       "      <td>Excellent</td>\n",
       "      <td>XL</td>\n",
       "      <td>29</td>\n",
       "      <td>Carbon Fiber</td>\n",
       "      <td>130.0</td>\n",
       "      <td>120.0</td>\n",
       "      <td>3000.0</td>\n",
       "      <td>USD</td>\n",
       "    </tr>\n",
       "    <tr>\n",
       "      <th>1</th>\n",
       "      <td>2018 Santa Cruz Chameleon</td>\n",
       "      <td>Excellent</td>\n",
       "      <td>XL</td>\n",
       "      <td>29</td>\n",
       "      <td>Aluminium</td>\n",
       "      <td>140.0</td>\n",
       "      <td>0.0</td>\n",
       "      <td>2500.0</td>\n",
       "      <td>CAD</td>\n",
       "    </tr>\n",
       "    <tr>\n",
       "      <th>2</th>\n",
       "      <td>2018 Large Chromag Primer</td>\n",
       "      <td>Excellent</td>\n",
       "      <td>L</td>\n",
       "      <td>29</td>\n",
       "      <td>Chromoly</td>\n",
       "      <td>160.0</td>\n",
       "      <td>0.0</td>\n",
       "      <td>3200.0</td>\n",
       "      <td>CAD</td>\n",
       "    </tr>\n",
       "    <tr>\n",
       "      <th>3</th>\n",
       "      <td>2015 Cove Hustler</td>\n",
       "      <td>Excellent</td>\n",
       "      <td>18</td>\n",
       "      <td>27.5</td>\n",
       "      <td>Aluminium</td>\n",
       "      <td>160.0</td>\n",
       "      <td>150.0</td>\n",
       "      <td>2375.0</td>\n",
       "      <td>CAD</td>\n",
       "    </tr>\n",
       "    <tr>\n",
       "      <th>4</th>\n",
       "      <td>2019 Pivot Firebird 29</td>\n",
       "      <td>Good</td>\n",
       "      <td>L</td>\n",
       "      <td>29</td>\n",
       "      <td>Carbon Fiber</td>\n",
       "      <td>170.0</td>\n",
       "      <td>160.0</td>\n",
       "      <td>4500.0</td>\n",
       "      <td>USD</td>\n",
       "    </tr>\n",
       "  </tbody>\n",
       "</table>\n",
       "</div>"
      ],
      "text/plain": [
       "                                               Title  Condition Frame Size  \\\n",
       "0  2019 Specialized Stumpjumper Short Travel Comp...  Excellent         XL   \n",
       "1                          2018 Santa Cruz Chameleon  Excellent         XL   \n",
       "2                          2018 Large Chromag Primer  Excellent          L   \n",
       "3                                  2015 Cove Hustler  Excellent         18   \n",
       "4                             2019 Pivot Firebird 29       Good          L   \n",
       "\n",
       "  Wheel Size      Material  Front Travel  Rear Travel   Price Currance  \n",
       "0         29  Carbon Fiber         130.0        120.0  3000.0      USD  \n",
       "1         29     Aluminium         140.0          0.0  2500.0      CAD  \n",
       "2         29      Chromoly         160.0          0.0  3200.0      CAD  \n",
       "3       27.5     Aluminium         160.0        150.0  2375.0      CAD  \n",
       "4         29  Carbon Fiber         170.0        160.0  4500.0      USD  "
      ]
     },
     "execution_count": 32,
     "metadata": {},
     "output_type": "execute_result"
    }
   ],
   "source": [
    "df2.head()"
   ]
  },
  {
   "cell_type": "code",
   "execution_count": 33,
   "metadata": {},
   "outputs": [],
   "source": [
    "df2['Price']=df2[['Price','Currance']].apply(lambda x: check_currancy(x['Price'],x['Currance']),axis=1)"
   ]
  },
  {
   "cell_type": "code",
   "execution_count": 34,
   "metadata": {},
   "outputs": [
    {
     "name": "stdout",
     "output_type": "stream",
     "text": [
      "<class 'pandas.core.frame.DataFrame'>\n",
      "Int64Index: 3307 entries, 0 to 3671\n",
      "Data columns (total 9 columns):\n",
      " #   Column        Non-Null Count  Dtype  \n",
      "---  ------        --------------  -----  \n",
      " 0   Title         3307 non-null   object \n",
      " 1   Condition     3307 non-null   object \n",
      " 2   Frame Size    3307 non-null   object \n",
      " 3   Wheel Size    3307 non-null   object \n",
      " 4   Material      3307 non-null   object \n",
      " 5   Front Travel  3307 non-null   float64\n",
      " 6   Rear Travel   3307 non-null   float64\n",
      " 7   Price         3307 non-null   float64\n",
      " 8   Currance      3307 non-null   object \n",
      "dtypes: float64(3), object(6)\n",
      "memory usage: 258.4+ KB\n"
     ]
    }
   ],
   "source": [
    "df2.info()"
   ]
  },
  {
   "cell_type": "code",
   "execution_count": 35,
   "metadata": {},
   "outputs": [
    {
     "data": {
      "text/html": [
       "<div>\n",
       "<style scoped>\n",
       "    .dataframe tbody tr th:only-of-type {\n",
       "        vertical-align: middle;\n",
       "    }\n",
       "\n",
       "    .dataframe tbody tr th {\n",
       "        vertical-align: top;\n",
       "    }\n",
       "\n",
       "    .dataframe thead th {\n",
       "        text-align: right;\n",
       "    }\n",
       "</style>\n",
       "<table border=\"1\" class=\"dataframe\">\n",
       "  <thead>\n",
       "    <tr style=\"text-align: right;\">\n",
       "      <th></th>\n",
       "      <th>Title</th>\n",
       "      <th>Condition</th>\n",
       "      <th>Size</th>\n",
       "      <th>Wheel_Size</th>\n",
       "      <th>Material</th>\n",
       "      <th>Front_travel</th>\n",
       "      <th>Rear_travel</th>\n",
       "      <th>Price</th>\n",
       "      <th>Currance</th>\n",
       "    </tr>\n",
       "  </thead>\n",
       "  <tbody>\n",
       "    <tr>\n",
       "      <th>1</th>\n",
       "      <td>Santa Cruz Tallboy A D build Large</td>\n",
       "      <td>Excellent</td>\n",
       "      <td>L</td>\n",
       "      <td>29.0</td>\n",
       "      <td>Aluminium</td>\n",
       "      <td>120.0</td>\n",
       "      <td>110.0</td>\n",
       "      <td>1800.0</td>\n",
       "      <td>USD</td>\n",
       "    </tr>\n",
       "    <tr>\n",
       "      <th>3</th>\n",
       "      <td>Kona Honzo ST</td>\n",
       "      <td>Excellent</td>\n",
       "      <td>XL</td>\n",
       "      <td>29.0</td>\n",
       "      <td>Steel</td>\n",
       "      <td>140.0</td>\n",
       "      <td>0.0</td>\n",
       "      <td>1850.0</td>\n",
       "      <td>CAD</td>\n",
       "    </tr>\n",
       "    <tr>\n",
       "      <th>5</th>\n",
       "      <td>Norco Sight A1</td>\n",
       "      <td>Excellent</td>\n",
       "      <td>L</td>\n",
       "      <td>29.0</td>\n",
       "      <td>Aluminium</td>\n",
       "      <td>160.0</td>\n",
       "      <td>150.0</td>\n",
       "      <td>3848.0</td>\n",
       "      <td>CAD</td>\n",
       "    </tr>\n",
       "    <tr>\n",
       "      <th>9</th>\n",
       "      <td>Transition Sentinel GX Alloy Large w/ 210mm Dr...</td>\n",
       "      <td>Good</td>\n",
       "      <td>L</td>\n",
       "      <td>29.0</td>\n",
       "      <td>Aluminium</td>\n",
       "      <td>160.0</td>\n",
       "      <td>140.0</td>\n",
       "      <td>2900.0</td>\n",
       "      <td>USD</td>\n",
       "    </tr>\n",
       "    <tr>\n",
       "      <th>10</th>\n",
       "      <td>NS Eccentric Chromo - Medium</td>\n",
       "      <td>Good</td>\n",
       "      <td>M</td>\n",
       "      <td>29.0</td>\n",
       "      <td>Chromoly</td>\n",
       "      <td>150.0</td>\n",
       "      <td>0.0</td>\n",
       "      <td>1600.0</td>\n",
       "      <td>USD</td>\n",
       "    </tr>\n",
       "  </tbody>\n",
       "</table>\n",
       "</div>"
      ],
      "text/plain": [
       "                                                Title  Condition Size  \\\n",
       "1                  Santa Cruz Tallboy A D build Large  Excellent    L   \n",
       "3                                       Kona Honzo ST  Excellent   XL   \n",
       "5                                      Norco Sight A1  Excellent    L   \n",
       "9   Transition Sentinel GX Alloy Large w/ 210mm Dr...       Good    L   \n",
       "10                       NS Eccentric Chromo - Medium       Good    M   \n",
       "\n",
       "    Wheel_Size   Material  Front_travel  Rear_travel   Price Currance  \n",
       "1         29.0  Aluminium         120.0        110.0  1800.0      USD  \n",
       "3         29.0      Steel         140.0          0.0  1850.0      CAD  \n",
       "5         29.0  Aluminium         160.0        150.0  3848.0      CAD  \n",
       "9         29.0  Aluminium         160.0        140.0  2900.0      USD  \n",
       "10        29.0   Chromoly         150.0          0.0  1600.0      USD  "
      ]
     },
     "execution_count": 35,
     "metadata": {},
     "output_type": "execute_result"
    }
   ],
   "source": [
    "df1.head()"
   ]
  },
  {
   "cell_type": "code",
   "execution_count": 36,
   "metadata": {},
   "outputs": [
    {
     "name": "stdout",
     "output_type": "stream",
     "text": [
      "<class 'pandas.core.frame.DataFrame'>\n",
      "Int64Index: 616 entries, 1 to 2741\n",
      "Data columns (total 9 columns):\n",
      " #   Column        Non-Null Count  Dtype  \n",
      "---  ------        --------------  -----  \n",
      " 0   Title         616 non-null    object \n",
      " 1   Condition     616 non-null    object \n",
      " 2   Size          616 non-null    object \n",
      " 3   Wheel_Size    616 non-null    float64\n",
      " 4   Material      616 non-null    object \n",
      " 5   Front_travel  616 non-null    float64\n",
      " 6   Rear_travel   616 non-null    float64\n",
      " 7   Price         616 non-null    float64\n",
      " 8   Currance      616 non-null    object \n",
      "dtypes: float64(4), object(5)\n",
      "memory usage: 48.1+ KB\n"
     ]
    }
   ],
   "source": [
    "df1.info()"
   ]
  },
  {
   "cell_type": "code",
   "execution_count": null,
   "metadata": {},
   "outputs": [],
   "source": []
  },
  {
   "cell_type": "code",
   "execution_count": null,
   "metadata": {},
   "outputs": [],
   "source": []
  },
  {
   "cell_type": "code",
   "execution_count": 37,
   "metadata": {},
   "outputs": [
    {
     "data": {
      "text/plain": [
       "Index(['Title', 'Condition', 'Frame Size', 'Wheel Size', 'Material',\n",
       "       'Front Travel', 'Rear Travel', 'Price', 'Currance'],\n",
       "      dtype='object')"
      ]
     },
     "execution_count": 37,
     "metadata": {},
     "output_type": "execute_result"
    }
   ],
   "source": [
    "df2.columns"
   ]
  },
  {
   "cell_type": "code",
   "execution_count": 38,
   "metadata": {},
   "outputs": [
    {
     "data": {
      "text/plain": [
       "Index(['Title', 'Condition', 'Size', 'Wheel_Size', 'Material', 'Front_travel',\n",
       "       'Rear_travel', 'Price', 'Currance'],\n",
       "      dtype='object')"
      ]
     },
     "execution_count": 38,
     "metadata": {},
     "output_type": "execute_result"
    }
   ],
   "source": [
    "df1.columns"
   ]
  },
  {
   "cell_type": "code",
   "execution_count": 39,
   "metadata": {},
   "outputs": [],
   "source": [
    "df2.rename(columns={'Frame Size':'Size','Wheel Size':'Wheel_Size',\n",
    "                    'Front Travel':'Front_travel','Rear Travel':'Rear_travel','Currance':'Currency'},inplace=True)"
   ]
  },
  {
   "cell_type": "code",
   "execution_count": 40,
   "metadata": {},
   "outputs": [],
   "source": [
    "df1.rename(columns={'Currance':'Currency'},inplace=True)"
   ]
  },
  {
   "cell_type": "code",
   "execution_count": 41,
   "metadata": {},
   "outputs": [
    {
     "data": {
      "text/plain": [
       "Index(['Title', 'Condition', 'Size', 'Wheel_Size', 'Material', 'Front_travel',\n",
       "       'Rear_travel', 'Price', 'Currency'],\n",
       "      dtype='object')"
      ]
     },
     "execution_count": 41,
     "metadata": {},
     "output_type": "execute_result"
    }
   ],
   "source": [
    "df1.columns"
   ]
  },
  {
   "cell_type": "code",
   "execution_count": 42,
   "metadata": {},
   "outputs": [
    {
     "data": {
      "text/plain": [
       "Index(['Title', 'Condition', 'Size', 'Wheel_Size', 'Material', 'Front_travel',\n",
       "       'Rear_travel', 'Price', 'Currency'],\n",
       "      dtype='object')"
      ]
     },
     "execution_count": 42,
     "metadata": {},
     "output_type": "execute_result"
    }
   ],
   "source": [
    "df2.columns"
   ]
  },
  {
   "cell_type": "code",
   "execution_count": 43,
   "metadata": {},
   "outputs": [],
   "source": [
    "df = pd.concat([df1,df2])"
   ]
  },
  {
   "cell_type": "code",
   "execution_count": 44,
   "metadata": {},
   "outputs": [
    {
     "data": {
      "text/html": [
       "<div>\n",
       "<style scoped>\n",
       "    .dataframe tbody tr th:only-of-type {\n",
       "        vertical-align: middle;\n",
       "    }\n",
       "\n",
       "    .dataframe tbody tr th {\n",
       "        vertical-align: top;\n",
       "    }\n",
       "\n",
       "    .dataframe thead th {\n",
       "        text-align: right;\n",
       "    }\n",
       "</style>\n",
       "<table border=\"1\" class=\"dataframe\">\n",
       "  <thead>\n",
       "    <tr style=\"text-align: right;\">\n",
       "      <th></th>\n",
       "      <th>Title</th>\n",
       "      <th>Condition</th>\n",
       "      <th>Size</th>\n",
       "      <th>Wheel_Size</th>\n",
       "      <th>Material</th>\n",
       "      <th>Front_travel</th>\n",
       "      <th>Rear_travel</th>\n",
       "      <th>Price</th>\n",
       "      <th>Currency</th>\n",
       "    </tr>\n",
       "  </thead>\n",
       "  <tbody>\n",
       "    <tr>\n",
       "      <th>1</th>\n",
       "      <td>Santa Cruz Tallboy A D build Large</td>\n",
       "      <td>Excellent</td>\n",
       "      <td>L</td>\n",
       "      <td>29</td>\n",
       "      <td>Aluminium</td>\n",
       "      <td>120.0</td>\n",
       "      <td>110.0</td>\n",
       "      <td>1800.0</td>\n",
       "      <td>USD</td>\n",
       "    </tr>\n",
       "    <tr>\n",
       "      <th>3</th>\n",
       "      <td>Kona Honzo ST</td>\n",
       "      <td>Excellent</td>\n",
       "      <td>XL</td>\n",
       "      <td>29</td>\n",
       "      <td>Steel</td>\n",
       "      <td>140.0</td>\n",
       "      <td>0.0</td>\n",
       "      <td>1850.0</td>\n",
       "      <td>CAD</td>\n",
       "    </tr>\n",
       "    <tr>\n",
       "      <th>5</th>\n",
       "      <td>Norco Sight A1</td>\n",
       "      <td>Excellent</td>\n",
       "      <td>L</td>\n",
       "      <td>29</td>\n",
       "      <td>Aluminium</td>\n",
       "      <td>160.0</td>\n",
       "      <td>150.0</td>\n",
       "      <td>3848.0</td>\n",
       "      <td>CAD</td>\n",
       "    </tr>\n",
       "    <tr>\n",
       "      <th>9</th>\n",
       "      <td>Transition Sentinel GX Alloy Large w/ 210mm Dr...</td>\n",
       "      <td>Good</td>\n",
       "      <td>L</td>\n",
       "      <td>29</td>\n",
       "      <td>Aluminium</td>\n",
       "      <td>160.0</td>\n",
       "      <td>140.0</td>\n",
       "      <td>2900.0</td>\n",
       "      <td>USD</td>\n",
       "    </tr>\n",
       "    <tr>\n",
       "      <th>10</th>\n",
       "      <td>NS Eccentric Chromo - Medium</td>\n",
       "      <td>Good</td>\n",
       "      <td>M</td>\n",
       "      <td>29</td>\n",
       "      <td>Chromoly</td>\n",
       "      <td>150.0</td>\n",
       "      <td>0.0</td>\n",
       "      <td>1600.0</td>\n",
       "      <td>USD</td>\n",
       "    </tr>\n",
       "  </tbody>\n",
       "</table>\n",
       "</div>"
      ],
      "text/plain": [
       "                                                Title  Condition Size  \\\n",
       "1                  Santa Cruz Tallboy A D build Large  Excellent    L   \n",
       "3                                       Kona Honzo ST  Excellent   XL   \n",
       "5                                      Norco Sight A1  Excellent    L   \n",
       "9   Transition Sentinel GX Alloy Large w/ 210mm Dr...       Good    L   \n",
       "10                       NS Eccentric Chromo - Medium       Good    M   \n",
       "\n",
       "   Wheel_Size   Material  Front_travel  Rear_travel   Price Currency  \n",
       "1          29  Aluminium         120.0        110.0  1800.0      USD  \n",
       "3          29      Steel         140.0          0.0  1850.0      CAD  \n",
       "5          29  Aluminium         160.0        150.0  3848.0      CAD  \n",
       "9          29  Aluminium         160.0        140.0  2900.0      USD  \n",
       "10         29   Chromoly         150.0          0.0  1600.0      USD  "
      ]
     },
     "execution_count": 44,
     "metadata": {},
     "output_type": "execute_result"
    }
   ],
   "source": [
    "df.head()"
   ]
  },
  {
   "cell_type": "code",
   "execution_count": 45,
   "metadata": {},
   "outputs": [
    {
     "name": "stdout",
     "output_type": "stream",
     "text": [
      "<class 'pandas.core.frame.DataFrame'>\n",
      "Int64Index: 3923 entries, 1 to 3671\n",
      "Data columns (total 9 columns):\n",
      " #   Column        Non-Null Count  Dtype  \n",
      "---  ------        --------------  -----  \n",
      " 0   Title         3923 non-null   object \n",
      " 1   Condition     3923 non-null   object \n",
      " 2   Size          3923 non-null   object \n",
      " 3   Wheel_Size    3923 non-null   object \n",
      " 4   Material      3923 non-null   object \n",
      " 5   Front_travel  3923 non-null   float64\n",
      " 6   Rear_travel   3923 non-null   float64\n",
      " 7   Price         3923 non-null   float64\n",
      " 8   Currency      3923 non-null   object \n",
      "dtypes: float64(3), object(6)\n",
      "memory usage: 306.5+ KB\n"
     ]
    }
   ],
   "source": [
    "df.info()"
   ]
  },
  {
   "cell_type": "code",
   "execution_count": 46,
   "metadata": {
    "scrolled": true
   },
   "outputs": [
    {
     "data": {
      "text/html": [
       "<div>\n",
       "<style scoped>\n",
       "    .dataframe tbody tr th:only-of-type {\n",
       "        vertical-align: middle;\n",
       "    }\n",
       "\n",
       "    .dataframe tbody tr th {\n",
       "        vertical-align: top;\n",
       "    }\n",
       "\n",
       "    .dataframe thead th {\n",
       "        text-align: right;\n",
       "    }\n",
       "</style>\n",
       "<table border=\"1\" class=\"dataframe\">\n",
       "  <thead>\n",
       "    <tr style=\"text-align: right;\">\n",
       "      <th></th>\n",
       "      <th>Title</th>\n",
       "      <th>Condition</th>\n",
       "      <th>Size</th>\n",
       "      <th>Wheel_Size</th>\n",
       "      <th>Material</th>\n",
       "      <th>Front_travel</th>\n",
       "      <th>Rear_travel</th>\n",
       "      <th>Price</th>\n",
       "      <th>Currency</th>\n",
       "    </tr>\n",
       "  </thead>\n",
       "  <tbody>\n",
       "    <tr>\n",
       "      <th>1</th>\n",
       "      <td>Santa Cruz Tallboy A D build Large</td>\n",
       "      <td>Excellent</td>\n",
       "      <td>L</td>\n",
       "      <td>29</td>\n",
       "      <td>Aluminium</td>\n",
       "      <td>120.0</td>\n",
       "      <td>110.0</td>\n",
       "      <td>1800.0</td>\n",
       "      <td>USD</td>\n",
       "    </tr>\n",
       "    <tr>\n",
       "      <th>3</th>\n",
       "      <td>Kona Honzo ST</td>\n",
       "      <td>Excellent</td>\n",
       "      <td>XL</td>\n",
       "      <td>29</td>\n",
       "      <td>Steel</td>\n",
       "      <td>140.0</td>\n",
       "      <td>0.0</td>\n",
       "      <td>1850.0</td>\n",
       "      <td>CAD</td>\n",
       "    </tr>\n",
       "    <tr>\n",
       "      <th>5</th>\n",
       "      <td>Norco Sight A1</td>\n",
       "      <td>Excellent</td>\n",
       "      <td>L</td>\n",
       "      <td>29</td>\n",
       "      <td>Aluminium</td>\n",
       "      <td>160.0</td>\n",
       "      <td>150.0</td>\n",
       "      <td>3848.0</td>\n",
       "      <td>CAD</td>\n",
       "    </tr>\n",
       "    <tr>\n",
       "      <th>9</th>\n",
       "      <td>Transition Sentinel GX Alloy Large w/ 210mm Dr...</td>\n",
       "      <td>Good</td>\n",
       "      <td>L</td>\n",
       "      <td>29</td>\n",
       "      <td>Aluminium</td>\n",
       "      <td>160.0</td>\n",
       "      <td>140.0</td>\n",
       "      <td>2900.0</td>\n",
       "      <td>USD</td>\n",
       "    </tr>\n",
       "    <tr>\n",
       "      <th>10</th>\n",
       "      <td>NS Eccentric Chromo - Medium</td>\n",
       "      <td>Good</td>\n",
       "      <td>M</td>\n",
       "      <td>29</td>\n",
       "      <td>Chromoly</td>\n",
       "      <td>150.0</td>\n",
       "      <td>0.0</td>\n",
       "      <td>1600.0</td>\n",
       "      <td>USD</td>\n",
       "    </tr>\n",
       "  </tbody>\n",
       "</table>\n",
       "</div>"
      ],
      "text/plain": [
       "                                                Title  Condition Size  \\\n",
       "1                  Santa Cruz Tallboy A D build Large  Excellent    L   \n",
       "3                                       Kona Honzo ST  Excellent   XL   \n",
       "5                                      Norco Sight A1  Excellent    L   \n",
       "9   Transition Sentinel GX Alloy Large w/ 210mm Dr...       Good    L   \n",
       "10                       NS Eccentric Chromo - Medium       Good    M   \n",
       "\n",
       "   Wheel_Size   Material  Front_travel  Rear_travel   Price Currency  \n",
       "1          29  Aluminium         120.0        110.0  1800.0      USD  \n",
       "3          29      Steel         140.0          0.0  1850.0      CAD  \n",
       "5          29  Aluminium         160.0        150.0  3848.0      CAD  \n",
       "9          29  Aluminium         160.0        140.0  2900.0      USD  \n",
       "10         29   Chromoly         150.0          0.0  1600.0      USD  "
      ]
     },
     "execution_count": 46,
     "metadata": {},
     "output_type": "execute_result"
    }
   ],
   "source": [
    "df.head()"
   ]
  },
  {
   "cell_type": "code",
   "execution_count": 47,
   "metadata": {},
   "outputs": [
    {
     "data": {
      "text/html": [
       "<div>\n",
       "<style scoped>\n",
       "    .dataframe tbody tr th:only-of-type {\n",
       "        vertical-align: middle;\n",
       "    }\n",
       "\n",
       "    .dataframe tbody tr th {\n",
       "        vertical-align: top;\n",
       "    }\n",
       "\n",
       "    .dataframe thead th {\n",
       "        text-align: right;\n",
       "    }\n",
       "</style>\n",
       "<table border=\"1\" class=\"dataframe\">\n",
       "  <thead>\n",
       "    <tr style=\"text-align: right;\">\n",
       "      <th></th>\n",
       "      <th>Title</th>\n",
       "      <th>Condition</th>\n",
       "      <th>Size</th>\n",
       "      <th>Wheel_Size</th>\n",
       "      <th>Material</th>\n",
       "      <th>Front_travel</th>\n",
       "      <th>Rear_travel</th>\n",
       "      <th>Price</th>\n",
       "      <th>Currency</th>\n",
       "    </tr>\n",
       "  </thead>\n",
       "  <tbody>\n",
       "    <tr>\n",
       "      <th>3671</th>\n",
       "      <td>2016 Specialized Camber Expert Carbon with car...</td>\n",
       "      <td>Excellent</td>\n",
       "      <td>L</td>\n",
       "      <td>29</td>\n",
       "      <td>Carbon Fiber</td>\n",
       "      <td>130.0</td>\n",
       "      <td>110.0</td>\n",
       "      <td>2738.0</td>\n",
       "      <td>CAD</td>\n",
       "    </tr>\n",
       "  </tbody>\n",
       "</table>\n",
       "</div>"
      ],
      "text/plain": [
       "                                                  Title  Condition Size  \\\n",
       "3671  2016 Specialized Camber Expert Carbon with car...  Excellent    L   \n",
       "\n",
       "     Wheel_Size      Material  Front_travel  Rear_travel   Price Currency  \n",
       "3671         29  Carbon Fiber         130.0        110.0  2738.0      CAD  "
      ]
     },
     "execution_count": 47,
     "metadata": {},
     "output_type": "execute_result"
    }
   ],
   "source": [
    "df.tail(1)"
   ]
  },
  {
   "cell_type": "code",
   "execution_count": 48,
   "metadata": {},
   "outputs": [
    {
     "name": "stdout",
     "output_type": "stream",
     "text": [
      "<class 'pandas.core.frame.DataFrame'>\n",
      "Int64Index: 3923 entries, 1 to 3671\n",
      "Data columns (total 9 columns):\n",
      " #   Column        Non-Null Count  Dtype  \n",
      "---  ------        --------------  -----  \n",
      " 0   Title         3923 non-null   object \n",
      " 1   Condition     3923 non-null   object \n",
      " 2   Size          3923 non-null   object \n",
      " 3   Wheel_Size    3923 non-null   object \n",
      " 4   Material      3923 non-null   object \n",
      " 5   Front_travel  3923 non-null   float64\n",
      " 6   Rear_travel   3923 non-null   float64\n",
      " 7   Price         3923 non-null   float64\n",
      " 8   Currency      3923 non-null   object \n",
      "dtypes: float64(3), object(6)\n",
      "memory usage: 306.5+ KB\n"
     ]
    }
   ],
   "source": [
    "df.info()"
   ]
  },
  {
   "cell_type": "code",
   "execution_count": 51,
   "metadata": {},
   "outputs": [
    {
     "data": {
      "text/plain": [
       "739999.26"
      ]
     },
     "execution_count": 51,
     "metadata": {},
     "output_type": "execute_result"
    }
   ],
   "source": [
    "df['Price'].max()"
   ]
  },
  {
   "cell_type": "code",
   "execution_count": 52,
   "metadata": {},
   "outputs": [
    {
     "data": {
      "text/html": [
       "<div>\n",
       "<style scoped>\n",
       "    .dataframe tbody tr th:only-of-type {\n",
       "        vertical-align: middle;\n",
       "    }\n",
       "\n",
       "    .dataframe tbody tr th {\n",
       "        vertical-align: top;\n",
       "    }\n",
       "\n",
       "    .dataframe thead th {\n",
       "        text-align: right;\n",
       "    }\n",
       "</style>\n",
       "<table border=\"1\" class=\"dataframe\">\n",
       "  <thead>\n",
       "    <tr style=\"text-align: right;\">\n",
       "      <th></th>\n",
       "      <th>Title</th>\n",
       "      <th>Condition</th>\n",
       "      <th>Size</th>\n",
       "      <th>Wheel_Size</th>\n",
       "      <th>Material</th>\n",
       "      <th>Front_travel</th>\n",
       "      <th>Rear_travel</th>\n",
       "      <th>Price</th>\n",
       "      <th>Currency</th>\n",
       "    </tr>\n",
       "  </thead>\n",
       "  <tbody>\n",
       "    <tr>\n",
       "      <th>1238</th>\n",
       "      <td>WTB: Trek Stache 7</td>\n",
       "      <td>Excellent</td>\n",
       "      <td>17.5\"</td>\n",
       "      <td>29</td>\n",
       "      <td>Aluminium</td>\n",
       "      <td>120.0</td>\n",
       "      <td>0.0</td>\n",
       "      <td>739999.26</td>\n",
       "      <td>CAD</td>\n",
       "    </tr>\n",
       "  </tbody>\n",
       "</table>\n",
       "</div>"
      ],
      "text/plain": [
       "                   Title  Condition   Size Wheel_Size   Material  \\\n",
       "1238  WTB: Trek Stache 7  Excellent  17.5\"         29  Aluminium   \n",
       "\n",
       "      Front_travel  Rear_travel      Price Currency  \n",
       "1238         120.0          0.0  739999.26      CAD  "
      ]
     },
     "execution_count": 52,
     "metadata": {},
     "output_type": "execute_result"
    }
   ],
   "source": []
  },
  {
   "cell_type": "code",
   "execution_count": 53,
   "metadata": {},
   "outputs": [],
   "source": [
    "df = df[df['Price']<12000]"
   ]
  },
  {
   "cell_type": "code",
   "execution_count": 54,
   "metadata": {},
   "outputs": [
    {
     "data": {
      "text/plain": [
       "9975.0"
      ]
     },
     "execution_count": 54,
     "metadata": {},
     "output_type": "execute_result"
    }
   ],
   "source": [
    "df['Price'].max()"
   ]
  },
  {
   "cell_type": "code",
   "execution_count": 58,
   "metadata": {},
   "outputs": [
    {
     "name": "stdout",
     "output_type": "stream",
     "text": [
      "<class 'pandas.core.frame.DataFrame'>\n",
      "Int64Index: 2230 entries, 14 to 3668\n",
      "Data columns (total 9 columns):\n",
      " #   Column        Non-Null Count  Dtype  \n",
      "---  ------        --------------  -----  \n",
      " 0   Title         2230 non-null   object \n",
      " 1   Condition     2230 non-null   object \n",
      " 2   Size          2230 non-null   object \n",
      " 3   Wheel_Size    2230 non-null   object \n",
      " 4   Material      2230 non-null   object \n",
      " 5   Front_travel  2230 non-null   float64\n",
      " 6   Rear_travel   2230 non-null   float64\n",
      " 7   Price         2230 non-null   float64\n",
      " 8   Currency      2230 non-null   object \n",
      "dtypes: float64(3), object(6)\n",
      "memory usage: 174.2+ KB\n"
     ]
    }
   ],
   "source": [
    "df[df['Wheel_Size']==27.5].info()"
   ]
  },
  {
   "cell_type": "code",
   "execution_count": 59,
   "metadata": {},
   "outputs": [
    {
     "data": {
      "text/html": [
       "<div>\n",
       "<style scoped>\n",
       "    .dataframe tbody tr th:only-of-type {\n",
       "        vertical-align: middle;\n",
       "    }\n",
       "\n",
       "    .dataframe tbody tr th {\n",
       "        vertical-align: top;\n",
       "    }\n",
       "\n",
       "    .dataframe thead th {\n",
       "        text-align: right;\n",
       "    }\n",
       "</style>\n",
       "<table border=\"1\" class=\"dataframe\">\n",
       "  <thead>\n",
       "    <tr style=\"text-align: right;\">\n",
       "      <th></th>\n",
       "      <th>Title</th>\n",
       "      <th>Condition</th>\n",
       "      <th>Size</th>\n",
       "      <th>Material</th>\n",
       "      <th>Front_travel</th>\n",
       "      <th>Rear_travel</th>\n",
       "      <th>Price</th>\n",
       "      <th>Currency</th>\n",
       "    </tr>\n",
       "    <tr>\n",
       "      <th>Wheel_Size</th>\n",
       "      <th></th>\n",
       "      <th></th>\n",
       "      <th></th>\n",
       "      <th></th>\n",
       "      <th></th>\n",
       "      <th></th>\n",
       "      <th></th>\n",
       "      <th></th>\n",
       "    </tr>\n",
       "  </thead>\n",
       "  <tbody>\n",
       "    <tr>\n",
       "      <th>27.5</th>\n",
       "      <td>2230</td>\n",
       "      <td>2230</td>\n",
       "      <td>2230</td>\n",
       "      <td>2230</td>\n",
       "      <td>2230</td>\n",
       "      <td>2230</td>\n",
       "      <td>2230</td>\n",
       "      <td>2230</td>\n",
       "    </tr>\n",
       "    <tr>\n",
       "      <th>29.0</th>\n",
       "      <td>1689</td>\n",
       "      <td>1689</td>\n",
       "      <td>1689</td>\n",
       "      <td>1689</td>\n",
       "      <td>1689</td>\n",
       "      <td>1689</td>\n",
       "      <td>1689</td>\n",
       "      <td>1689</td>\n",
       "    </tr>\n",
       "  </tbody>\n",
       "</table>\n",
       "</div>"
      ],
      "text/plain": [
       "            Title  Condition  Size  Material  Front_travel  Rear_travel  \\\n",
       "Wheel_Size                                                                \n",
       "27.5         2230       2230  2230      2230          2230         2230   \n",
       "29.0         1689       1689  1689      1689          1689         1689   \n",
       "\n",
       "            Price  Currency  \n",
       "Wheel_Size                   \n",
       "27.5         2230      2230  \n",
       "29.0         1689      1689  "
      ]
     },
     "execution_count": 59,
     "metadata": {},
     "output_type": "execute_result"
    }
   ],
   "source": [
    "df.groupby('Wheel_Size').count()"
   ]
  },
  {
   "cell_type": "code",
   "execution_count": 65,
   "metadata": {},
   "outputs": [
    {
     "data": {
      "text/html": [
       "<div>\n",
       "<style scoped>\n",
       "    .dataframe tbody tr th:only-of-type {\n",
       "        vertical-align: middle;\n",
       "    }\n",
       "\n",
       "    .dataframe tbody tr th {\n",
       "        vertical-align: top;\n",
       "    }\n",
       "\n",
       "    .dataframe thead th {\n",
       "        text-align: right;\n",
       "    }\n",
       "</style>\n",
       "<table border=\"1\" class=\"dataframe\">\n",
       "  <thead>\n",
       "    <tr style=\"text-align: right;\">\n",
       "      <th></th>\n",
       "      <th>Title</th>\n",
       "      <th>Condition</th>\n",
       "      <th>Size</th>\n",
       "      <th>Wheel_Size</th>\n",
       "      <th>Material</th>\n",
       "      <th>Front_travel</th>\n",
       "      <th>Rear_travel</th>\n",
       "      <th>Price</th>\n",
       "      <th>Currency</th>\n",
       "    </tr>\n",
       "  </thead>\n",
       "  <tbody>\n",
       "    <tr>\n",
       "      <th>1</th>\n",
       "      <td>Santa Cruz Tallboy A D build Large</td>\n",
       "      <td>Excellent</td>\n",
       "      <td>L</td>\n",
       "      <td>29</td>\n",
       "      <td>Aluminium</td>\n",
       "      <td>120.0</td>\n",
       "      <td>110.0</td>\n",
       "      <td>1800.0</td>\n",
       "      <td>USD</td>\n",
       "    </tr>\n",
       "    <tr>\n",
       "      <th>3</th>\n",
       "      <td>Kona Honzo ST</td>\n",
       "      <td>Excellent</td>\n",
       "      <td>XL</td>\n",
       "      <td>29</td>\n",
       "      <td>Steel</td>\n",
       "      <td>140.0</td>\n",
       "      <td>0.0</td>\n",
       "      <td>1850.0</td>\n",
       "      <td>CAD</td>\n",
       "    </tr>\n",
       "    <tr>\n",
       "      <th>5</th>\n",
       "      <td>Norco Sight A1</td>\n",
       "      <td>Excellent</td>\n",
       "      <td>L</td>\n",
       "      <td>29</td>\n",
       "      <td>Aluminium</td>\n",
       "      <td>160.0</td>\n",
       "      <td>150.0</td>\n",
       "      <td>3848.0</td>\n",
       "      <td>CAD</td>\n",
       "    </tr>\n",
       "    <tr>\n",
       "      <th>9</th>\n",
       "      <td>Transition Sentinel GX Alloy Large w/ 210mm Dr...</td>\n",
       "      <td>Good</td>\n",
       "      <td>L</td>\n",
       "      <td>29</td>\n",
       "      <td>Aluminium</td>\n",
       "      <td>160.0</td>\n",
       "      <td>140.0</td>\n",
       "      <td>2900.0</td>\n",
       "      <td>USD</td>\n",
       "    </tr>\n",
       "    <tr>\n",
       "      <th>10</th>\n",
       "      <td>NS Eccentric Chromo - Medium</td>\n",
       "      <td>Good</td>\n",
       "      <td>M</td>\n",
       "      <td>29</td>\n",
       "      <td>Chromoly</td>\n",
       "      <td>150.0</td>\n",
       "      <td>0.0</td>\n",
       "      <td>1600.0</td>\n",
       "      <td>USD</td>\n",
       "    </tr>\n",
       "  </tbody>\n",
       "</table>\n",
       "</div>"
      ],
      "text/plain": [
       "                                                Title  Condition Size  \\\n",
       "1                  Santa Cruz Tallboy A D build Large  Excellent    L   \n",
       "3                                       Kona Honzo ST  Excellent   XL   \n",
       "5                                      Norco Sight A1  Excellent    L   \n",
       "9   Transition Sentinel GX Alloy Large w/ 210mm Dr...       Good    L   \n",
       "10                       NS Eccentric Chromo - Medium       Good    M   \n",
       "\n",
       "   Wheel_Size   Material  Front_travel  Rear_travel   Price Currency  \n",
       "1          29  Aluminium         120.0        110.0  1800.0      USD  \n",
       "3          29      Steel         140.0          0.0  1850.0      CAD  \n",
       "5          29  Aluminium         160.0        150.0  3848.0      CAD  \n",
       "9          29  Aluminium         160.0        140.0  2900.0      USD  \n",
       "10         29   Chromoly         150.0          0.0  1600.0      USD  "
      ]
     },
     "execution_count": 65,
     "metadata": {},
     "output_type": "execute_result"
    }
   ],
   "source": [
    "df.head()"
   ]
  },
  {
   "cell_type": "code",
   "execution_count": null,
   "metadata": {},
   "outputs": [],
   "source": []
  }
 ],
 "metadata": {
  "celltoolbar": "Raw Cell Format",
  "kernelspec": {
   "display_name": "Python 3",
   "language": "python",
   "name": "python3"
  },
  "language_info": {
   "codemirror_mode": {
    "name": "ipython",
    "version": 3
   },
   "file_extension": ".py",
   "mimetype": "text/x-python",
   "name": "python",
   "nbconvert_exporter": "python",
   "pygments_lexer": "ipython3",
   "version": "3.7.6"
  }
 },
 "nbformat": 4,
 "nbformat_minor": 4
}
