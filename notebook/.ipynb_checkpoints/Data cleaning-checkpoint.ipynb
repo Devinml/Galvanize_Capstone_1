{
 "cells": [
  {
   "cell_type": "code",
   "execution_count": 1,
   "metadata": {},
   "outputs": [],
   "source": [
    "import pandas as pd\n",
    "import matplotlib.pyplot as plt"
   ]
  },
  {
   "cell_type": "code",
   "execution_count": 7,
   "metadata": {},
   "outputs": [],
   "source": [
    "df1 = pd.read_csv('../data/data.csv')\n",
    "df2 = pd.read_csv('../data/test.csv')\n",
    "df3 = pd.read_csv('../data/results.csv')"
   ]
  },
  {
   "cell_type": "code",
   "execution_count": 14,
   "metadata": {},
   "outputs": [
    {
     "name": "stdout",
     "output_type": "stream",
     "text": [
      "<class 'pandas.core.frame.DataFrame'>\n",
      "RangeIndex: 1400 entries, 0 to 1399\n",
      "Data columns (total 9 columns):\n",
      " #   Column        Non-Null Count  Dtype \n",
      "---  ------        --------------  ----- \n",
      " 0   Title         1400 non-null   object\n",
      " 1   Condition     1400 non-null   object\n",
      " 2   Size          1400 non-null   object\n",
      " 3   Wheel_Size    1400 non-null   object\n",
      " 4   Material      1400 non-null   object\n",
      " 5   Front_travel  1400 non-null   object\n",
      " 6   Rear_travel   1400 non-null   object\n",
      " 7   Price         1400 non-null   int64 \n",
      " 8   Currance      1400 non-null   object\n",
      "dtypes: int64(1), object(8)\n",
      "memory usage: 98.6+ KB\n"
     ]
    }
   ],
   "source": [
    "df1.info()"
   ]
  },
  {
   "cell_type": "code",
   "execution_count": 13,
   "metadata": {},
   "outputs": [
    {
     "name": "stdout",
     "output_type": "stream",
     "text": [
      "<class 'pandas.core.frame.DataFrame'>\n",
      "RangeIndex: 677 entries, 0 to 676\n",
      "Data columns (total 9 columns):\n",
      " #   Column        Non-Null Count  Dtype \n",
      "---  ------        --------------  ----- \n",
      " 0   Title         677 non-null    object\n",
      " 1   Condition     677 non-null    object\n",
      " 2   Size          677 non-null    object\n",
      " 3   Wheel_Size    677 non-null    object\n",
      " 4   Material      677 non-null    object\n",
      " 5   Front_travel  677 non-null    object\n",
      " 6   Rear_travel   677 non-null    object\n",
      " 7   Price         677 non-null    int64 \n",
      " 8   Currance      677 non-null    object\n",
      "dtypes: int64(1), object(8)\n",
      "memory usage: 47.7+ KB\n"
     ]
    }
   ],
   "source": [
    "df2.info()\n"
   ]
  },
  {
   "cell_type": "code",
   "execution_count": 15,
   "metadata": {},
   "outputs": [
    {
     "name": "stdout",
     "output_type": "stream",
     "text": [
      "<class 'pandas.core.frame.DataFrame'>\n",
      "RangeIndex: 3672 entries, 0 to 3671\n",
      "Data columns (total 14 columns):\n",
      " #   Column        Non-Null Count  Dtype \n",
      "---  ------        --------------  ----- \n",
      " 0   Title         3672 non-null   object\n",
      " 1   Condition     3672 non-null   object\n",
      " 2   Material      3672 non-null   object\n",
      " 3   Frame Size    3672 non-null   object\n",
      " 4   Wheel Size    3672 non-null   object\n",
      " 5   Front Travel  3672 non-null   object\n",
      " 6   Rear Travel   3672 non-null   object\n",
      " 7   Price         3672 non-null   object\n",
      " 8   City          3671 non-null   object\n",
      " 9   State/Prov    3672 non-null   object\n",
      " 10  Country       3672 non-null   object\n",
      " 11  Description   3672 non-null   object\n",
      " 12  Date Posted   3669 non-null   object\n",
      " 13  Unnamed: 13   3 non-null      object\n",
      "dtypes: object(14)\n",
      "memory usage: 401.8+ KB\n"
     ]
    }
   ],
   "source": [
    "df3.info()"
   ]
  },
  {
   "cell_type": "code",
   "execution_count": null,
   "metadata": {},
   "outputs": [],
   "source": []
  }
 ],
 "metadata": {
  "kernelspec": {
   "display_name": "Python 3",
   "language": "python",
   "name": "python3"
  },
  "language_info": {
   "codemirror_mode": {
    "name": "ipython",
    "version": 3
   },
   "file_extension": ".py",
   "mimetype": "text/x-python",
   "name": "python",
   "nbconvert_exporter": "python",
   "pygments_lexer": "ipython3",
   "version": "3.7.6"
  }
 },
 "nbformat": 4,
 "nbformat_minor": 4
}
