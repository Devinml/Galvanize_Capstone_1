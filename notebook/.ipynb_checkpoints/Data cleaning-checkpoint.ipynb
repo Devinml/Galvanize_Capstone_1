{
 "cells": [
  {
   "cell_type": "code",
   "execution_count": 3,
   "metadata": {},
   "outputs": [],
   "source": [
    "import pandas as pd\n",
    "import matplotlib.pyplot as plt"
   ]
  },
  {
   "cell_type": "code",
   "execution_count": 4,
   "metadata": {},
   "outputs": [],
   "source": [
    "df1 = pd.read_csv('../data/data_work.csv')\n",
    "df2 = pd.read_csv('../data/data_work_2.csv')\n"
   ]
  },
  {
   "cell_type": "code",
   "execution_count": 5,
   "metadata": {},
   "outputs": [
    {
     "name": "stdout",
     "output_type": "stream",
     "text": [
      "<class 'pandas.core.frame.DataFrame'>\n",
      "RangeIndex: 2744 entries, 0 to 2743\n",
      "Data columns (total 10 columns):\n",
      " #   Column        Non-Null Count  Dtype \n",
      "---  ------        --------------  ----- \n",
      " 0   Title         2744 non-null   object\n",
      " 1   Condition     2744 non-null   object\n",
      " 2   Size          2744 non-null   object\n",
      " 3   Wheel_Size    2744 non-null   object\n",
      " 4   Material      2744 non-null   object\n",
      " 5   Front_travel  2744 non-null   object\n",
      " 6   Rear_travel   2744 non-null   object\n",
      " 7   Price         2744 non-null   object\n",
      " 8   Currance      2744 non-null   object\n",
      " 9   Unnamed: 9    1 non-null      object\n",
      "dtypes: object(10)\n",
      "memory usage: 214.5+ KB\n"
     ]
    }
   ],
   "source": [
    "df1.info()"
   ]
  },
  {
   "cell_type": "code",
   "execution_count": 6,
   "metadata": {},
   "outputs": [
    {
     "name": "stdout",
     "output_type": "stream",
     "text": [
      "<class 'pandas.core.frame.DataFrame'>\n",
      "RangeIndex: 3672 entries, 0 to 3671\n",
      "Data columns (total 8 columns):\n",
      " #   Column        Non-Null Count  Dtype \n",
      "---  ------        --------------  ----- \n",
      " 0   Title         3672 non-null   object\n",
      " 1   Condition     3672 non-null   object\n",
      " 2   Frame Size    3672 non-null   object\n",
      " 3   Wheel Size    3672 non-null   object\n",
      " 4   Material      3672 non-null   object\n",
      " 5   Front Travel  3672 non-null   object\n",
      " 6   Rear Travel   3672 non-null   object\n",
      " 7   Price         3672 non-null   object\n",
      "dtypes: object(8)\n",
      "memory usage: 229.6+ KB\n"
     ]
    }
   ],
   "source": [
    "df2.info()\n"
   ]
  },
  {
   "cell_type": "code",
   "execution_count": 7,
   "metadata": {},
   "outputs": [
    {
     "data": {
      "text/html": [
       "<div>\n",
       "<style scoped>\n",
       "    .dataframe tbody tr th:only-of-type {\n",
       "        vertical-align: middle;\n",
       "    }\n",
       "\n",
       "    .dataframe tbody tr th {\n",
       "        vertical-align: top;\n",
       "    }\n",
       "\n",
       "    .dataframe thead th {\n",
       "        text-align: right;\n",
       "    }\n",
       "</style>\n",
       "<table border=\"1\" class=\"dataframe\">\n",
       "  <thead>\n",
       "    <tr style=\"text-align: right;\">\n",
       "      <th></th>\n",
       "      <th>Title</th>\n",
       "      <th>Condition</th>\n",
       "      <th>Size</th>\n",
       "      <th>Wheel_Size</th>\n",
       "      <th>Material</th>\n",
       "      <th>Front_travel</th>\n",
       "      <th>Rear_travel</th>\n",
       "      <th>Price</th>\n",
       "      <th>Currance</th>\n",
       "      <th>Unnamed: 9</th>\n",
       "    </tr>\n",
       "  </thead>\n",
       "  <tbody>\n",
       "    <tr>\n",
       "      <th>0</th>\n",
       "      <td>NS Carbon Define 130/150 Size Medium</td>\n",
       "      <td>Excellent</td>\n",
       "      <td>M</td>\n",
       "      <td>29\"</td>\n",
       "      <td>Carbon</td>\n",
       "      <td>160</td>\n",
       "      <td>155</td>\n",
       "      <td>4600</td>\n",
       "      <td>USD</td>\n",
       "      <td>NaN</td>\n",
       "    </tr>\n",
       "    <tr>\n",
       "      <th>1</th>\n",
       "      <td>Santa Cruz Tallboy A D build Large</td>\n",
       "      <td>Excellent</td>\n",
       "      <td>L</td>\n",
       "      <td>29\"</td>\n",
       "      <td>Aluminium</td>\n",
       "      <td>120</td>\n",
       "      <td>110</td>\n",
       "      <td>1800</td>\n",
       "      <td>USD</td>\n",
       "      <td>NaN</td>\n",
       "    </tr>\n",
       "    <tr>\n",
       "      <th>2</th>\n",
       "      <td>Santa Cruz Bronson C medium</td>\n",
       "      <td>Excellent</td>\n",
       "      <td>M</td>\n",
       "      <td>27.5\"</td>\n",
       "      <td>Carbon</td>\n",
       "      <td>150</td>\n",
       "      <td>150</td>\n",
       "      <td>2950</td>\n",
       "      <td>USD</td>\n",
       "      <td>NaN</td>\n",
       "    </tr>\n",
       "    <tr>\n",
       "      <th>3</th>\n",
       "      <td>Kona Honzo ST</td>\n",
       "      <td>Excellent</td>\n",
       "      <td>XL</td>\n",
       "      <td>29\"</td>\n",
       "      <td>Steel</td>\n",
       "      <td>140</td>\n",
       "      <td>0</td>\n",
       "      <td>2500</td>\n",
       "      <td>CAD</td>\n",
       "      <td>NaN</td>\n",
       "    </tr>\n",
       "    <tr>\n",
       "      <th>4</th>\n",
       "      <td>Intense Primer 275 Medium Blue Expert</td>\n",
       "      <td>New</td>\n",
       "      <td>Wheel</td>\n",
       "      <td>Material:</td>\n",
       "      <td>29\"</td>\n",
       "      <td>Front</td>\n",
       "      <td>Rear</td>\n",
       "      <td>3799</td>\n",
       "      <td>USD</td>\n",
       "      <td>NaN</td>\n",
       "    </tr>\n",
       "  </tbody>\n",
       "</table>\n",
       "</div>"
      ],
      "text/plain": [
       "                                   Title  Condition   Size Wheel_Size  \\\n",
       "0   NS Carbon Define 130/150 Size Medium  Excellent      M        29\"   \n",
       "1     Santa Cruz Tallboy A D build Large  Excellent      L        29\"   \n",
       "2            Santa Cruz Bronson C medium  Excellent      M      27.5\"   \n",
       "3                          Kona Honzo ST  Excellent     XL        29\"   \n",
       "4  Intense Primer 275 Medium Blue Expert        New  Wheel  Material:   \n",
       "\n",
       "    Material Front_travel Rear_travel Price Currance Unnamed: 9  \n",
       "0     Carbon          160         155  4600      USD        NaN  \n",
       "1  Aluminium          120         110  1800      USD        NaN  \n",
       "2     Carbon          150         150  2950      USD        NaN  \n",
       "3      Steel          140           0  2500      CAD        NaN  \n",
       "4        29\"        Front        Rear  3799      USD        NaN  "
      ]
     },
     "execution_count": 7,
     "metadata": {},
     "output_type": "execute_result"
    }
   ],
   "source": [
    "df1.head()"
   ]
  },
  {
   "cell_type": "code",
   "execution_count": 8,
   "metadata": {},
   "outputs": [],
   "source": [
    "def Check_Material(string):\n",
    "    if string == 'Aluminium' or string == 'Carbon Fiber' or string == 'Chromoly' or string== 'Steel' or string =='Titanium':\n",
    "        return True\n",
    "    else:\n",
    "        return False\n",
    "    \n",
    "def convert_wheel_string(input_string):\n",
    "    if input_string == '29\"':\n",
    "        return 29\n",
    "    elif input_string == '27.5\"':\n",
    "        return 27.5\n",
    "def convert_string_flt(input_string):\n",
    "    nums = '1234567890.'\n",
    "    string = ''\n",
    "    for char in input_string:\n",
    "        if char in nums:\n",
    "            string+= char\n",
    "    return float(string)\n",
    "\n",
    "def check_rear_string(x):\n",
    "    if len(x)>3:\n",
    "        return True\n",
    "    else:\n",
    "        return False\n",
    "def rear_travel_clean(x):\n",
    "    if x ==\"Travel:\":\n",
    "        return False\n",
    "    else:\n",
    "        return True"
   ]
  },
  {
   "cell_type": "code",
   "execution_count": 9,
   "metadata": {},
   "outputs": [
    {
     "data": {
      "text/html": [
       "<div>\n",
       "<style scoped>\n",
       "    .dataframe tbody tr th:only-of-type {\n",
       "        vertical-align: middle;\n",
       "    }\n",
       "\n",
       "    .dataframe tbody tr th {\n",
       "        vertical-align: top;\n",
       "    }\n",
       "\n",
       "    .dataframe thead th {\n",
       "        text-align: right;\n",
       "    }\n",
       "</style>\n",
       "<table border=\"1\" class=\"dataframe\">\n",
       "  <thead>\n",
       "    <tr style=\"text-align: right;\">\n",
       "      <th></th>\n",
       "      <th>Title</th>\n",
       "      <th>Condition</th>\n",
       "      <th>Size</th>\n",
       "      <th>Wheel_Size</th>\n",
       "      <th>Material</th>\n",
       "      <th>Front_travel</th>\n",
       "      <th>Rear_travel</th>\n",
       "      <th>Price</th>\n",
       "      <th>Currance</th>\n",
       "      <th>Unnamed: 9</th>\n",
       "    </tr>\n",
       "  </thead>\n",
       "  <tbody>\n",
       "    <tr>\n",
       "      <th>0</th>\n",
       "      <td>NS Carbon Define 130/150 Size Medium</td>\n",
       "      <td>Excellent</td>\n",
       "      <td>M</td>\n",
       "      <td>29\"</td>\n",
       "      <td>Carbon</td>\n",
       "      <td>160</td>\n",
       "      <td>155</td>\n",
       "      <td>4600</td>\n",
       "      <td>USD</td>\n",
       "      <td>NaN</td>\n",
       "    </tr>\n",
       "    <tr>\n",
       "      <th>1</th>\n",
       "      <td>Santa Cruz Tallboy A D build Large</td>\n",
       "      <td>Excellent</td>\n",
       "      <td>L</td>\n",
       "      <td>29\"</td>\n",
       "      <td>Aluminium</td>\n",
       "      <td>120</td>\n",
       "      <td>110</td>\n",
       "      <td>1800</td>\n",
       "      <td>USD</td>\n",
       "      <td>NaN</td>\n",
       "    </tr>\n",
       "    <tr>\n",
       "      <th>2</th>\n",
       "      <td>Santa Cruz Bronson C medium</td>\n",
       "      <td>Excellent</td>\n",
       "      <td>M</td>\n",
       "      <td>27.5\"</td>\n",
       "      <td>Carbon</td>\n",
       "      <td>150</td>\n",
       "      <td>150</td>\n",
       "      <td>2950</td>\n",
       "      <td>USD</td>\n",
       "      <td>NaN</td>\n",
       "    </tr>\n",
       "    <tr>\n",
       "      <th>3</th>\n",
       "      <td>Kona Honzo ST</td>\n",
       "      <td>Excellent</td>\n",
       "      <td>XL</td>\n",
       "      <td>29\"</td>\n",
       "      <td>Steel</td>\n",
       "      <td>140</td>\n",
       "      <td>0</td>\n",
       "      <td>2500</td>\n",
       "      <td>CAD</td>\n",
       "      <td>NaN</td>\n",
       "    </tr>\n",
       "    <tr>\n",
       "      <th>4</th>\n",
       "      <td>Intense Primer 275 Medium Blue Expert</td>\n",
       "      <td>New</td>\n",
       "      <td>Wheel</td>\n",
       "      <td>Material:</td>\n",
       "      <td>29\"</td>\n",
       "      <td>Front</td>\n",
       "      <td>Rear</td>\n",
       "      <td>3799</td>\n",
       "      <td>USD</td>\n",
       "      <td>NaN</td>\n",
       "    </tr>\n",
       "  </tbody>\n",
       "</table>\n",
       "</div>"
      ],
      "text/plain": [
       "                                   Title  Condition   Size Wheel_Size  \\\n",
       "0   NS Carbon Define 130/150 Size Medium  Excellent      M        29\"   \n",
       "1     Santa Cruz Tallboy A D build Large  Excellent      L        29\"   \n",
       "2            Santa Cruz Bronson C medium  Excellent      M      27.5\"   \n",
       "3                          Kona Honzo ST  Excellent     XL        29\"   \n",
       "4  Intense Primer 275 Medium Blue Expert        New  Wheel  Material:   \n",
       "\n",
       "    Material Front_travel Rear_travel Price Currance Unnamed: 9  \n",
       "0     Carbon          160         155  4600      USD        NaN  \n",
       "1  Aluminium          120         110  1800      USD        NaN  \n",
       "2     Carbon          150         150  2950      USD        NaN  \n",
       "3      Steel          140           0  2500      CAD        NaN  \n",
       "4        29\"        Front        Rear  3799      USD        NaN  "
      ]
     },
     "execution_count": 9,
     "metadata": {},
     "output_type": "execute_result"
    }
   ],
   "source": [
    "df1.head()"
   ]
  },
  {
   "cell_type": "code",
   "execution_count": 10,
   "metadata": {},
   "outputs": [],
   "source": [
    "df1.drop(axis = 1,labels = 'Unnamed: 9',inplace=True)"
   ]
  },
  {
   "cell_type": "code",
   "execution_count": 11,
   "metadata": {},
   "outputs": [],
   "source": [
    "df1 = df1[df1['Material'].apply(lambda x : Check_Material(x))].copy()"
   ]
  },
  {
   "cell_type": "code",
   "execution_count": 12,
   "metadata": {},
   "outputs": [
    {
     "data": {
      "text/html": [
       "<div>\n",
       "<style scoped>\n",
       "    .dataframe tbody tr th:only-of-type {\n",
       "        vertical-align: middle;\n",
       "    }\n",
       "\n",
       "    .dataframe tbody tr th {\n",
       "        vertical-align: top;\n",
       "    }\n",
       "\n",
       "    .dataframe thead th {\n",
       "        text-align: right;\n",
       "    }\n",
       "</style>\n",
       "<table border=\"1\" class=\"dataframe\">\n",
       "  <thead>\n",
       "    <tr style=\"text-align: right;\">\n",
       "      <th></th>\n",
       "      <th>Title</th>\n",
       "      <th>Condition</th>\n",
       "      <th>Size</th>\n",
       "      <th>Wheel_Size</th>\n",
       "      <th>Material</th>\n",
       "      <th>Front_travel</th>\n",
       "      <th>Rear_travel</th>\n",
       "      <th>Price</th>\n",
       "      <th>Currance</th>\n",
       "    </tr>\n",
       "  </thead>\n",
       "  <tbody>\n",
       "    <tr>\n",
       "      <th>1</th>\n",
       "      <td>Santa Cruz Tallboy A D build Large</td>\n",
       "      <td>Excellent</td>\n",
       "      <td>L</td>\n",
       "      <td>29\"</td>\n",
       "      <td>Aluminium</td>\n",
       "      <td>120</td>\n",
       "      <td>110</td>\n",
       "      <td>1800</td>\n",
       "      <td>USD</td>\n",
       "    </tr>\n",
       "    <tr>\n",
       "      <th>3</th>\n",
       "      <td>Kona Honzo ST</td>\n",
       "      <td>Excellent</td>\n",
       "      <td>XL</td>\n",
       "      <td>29\"</td>\n",
       "      <td>Steel</td>\n",
       "      <td>140</td>\n",
       "      <td>0</td>\n",
       "      <td>2500</td>\n",
       "      <td>CAD</td>\n",
       "    </tr>\n",
       "    <tr>\n",
       "      <th>5</th>\n",
       "      <td>Norco Sight A1</td>\n",
       "      <td>Excellent</td>\n",
       "      <td>L</td>\n",
       "      <td>29\"</td>\n",
       "      <td>Aluminium</td>\n",
       "      <td>160</td>\n",
       "      <td>150</td>\n",
       "      <td>5200</td>\n",
       "      <td>CAD</td>\n",
       "    </tr>\n",
       "    <tr>\n",
       "      <th>9</th>\n",
       "      <td>Transition Sentinel GX Alloy Large w/ 210mm Dr...</td>\n",
       "      <td>Good</td>\n",
       "      <td>L</td>\n",
       "      <td>29\"</td>\n",
       "      <td>Aluminium</td>\n",
       "      <td>160</td>\n",
       "      <td>140</td>\n",
       "      <td>2900</td>\n",
       "      <td>USD</td>\n",
       "    </tr>\n",
       "    <tr>\n",
       "      <th>10</th>\n",
       "      <td>NS Eccentric Chromo - Medium</td>\n",
       "      <td>Good</td>\n",
       "      <td>M</td>\n",
       "      <td>29\"</td>\n",
       "      <td>Chromoly</td>\n",
       "      <td>150</td>\n",
       "      <td>0</td>\n",
       "      <td>1600</td>\n",
       "      <td>USD</td>\n",
       "    </tr>\n",
       "  </tbody>\n",
       "</table>\n",
       "</div>"
      ],
      "text/plain": [
       "                                                Title  Condition Size  \\\n",
       "1                  Santa Cruz Tallboy A D build Large  Excellent    L   \n",
       "3                                       Kona Honzo ST  Excellent   XL   \n",
       "5                                      Norco Sight A1  Excellent    L   \n",
       "9   Transition Sentinel GX Alloy Large w/ 210mm Dr...       Good    L   \n",
       "10                       NS Eccentric Chromo - Medium       Good    M   \n",
       "\n",
       "   Wheel_Size   Material Front_travel Rear_travel Price Currance  \n",
       "1         29\"  Aluminium          120         110  1800      USD  \n",
       "3         29\"      Steel          140           0  2500      CAD  \n",
       "5         29\"  Aluminium          160         150  5200      CAD  \n",
       "9         29\"  Aluminium          160         140  2900      USD  \n",
       "10        29\"   Chromoly          150           0  1600      USD  "
      ]
     },
     "execution_count": 12,
     "metadata": {},
     "output_type": "execute_result"
    }
   ],
   "source": [
    "df1.head()"
   ]
  },
  {
   "cell_type": "code",
   "execution_count": 13,
   "metadata": {},
   "outputs": [],
   "source": [
    "df1['Wheel_Size'] = df1['Wheel_Size'].apply(lambda x : convert_wheel_string(x))"
   ]
  },
  {
   "cell_type": "code",
   "execution_count": 14,
   "metadata": {},
   "outputs": [],
   "source": [
    "df1['Front_travel'] = df1['Front_travel'].apply(convert_string_flt)"
   ]
  },
  {
   "cell_type": "code",
   "execution_count": 15,
   "metadata": {},
   "outputs": [],
   "source": [
    "df1 = df1[df1['Rear_travel'].apply(rear_travel_clean)]\n",
    "df1['Rear_travel'] = df1['Rear_travel'].apply(convert_string_flt)"
   ]
  },
  {
   "cell_type": "code",
   "execution_count": 16,
   "metadata": {},
   "outputs": [],
   "source": [
    "df1['Price'] = df1['Price'].apply(convert_string_flt)"
   ]
  },
  {
   "cell_type": "code",
   "execution_count": 18,
   "metadata": {},
   "outputs": [
    {
     "ename": "SyntaxError",
     "evalue": "invalid syntax (<ipython-input-18-64d64a50e264>, line 2)",
     "output_type": "error",
     "traceback": [
      "\u001b[0;36m  File \u001b[0;32m\"<ipython-input-18-64d64a50e264>\"\u001b[0;36m, line \u001b[0;32m2\u001b[0m\n\u001b[0;31m    if currancy = 'CAD':\u001b[0m\n\u001b[0m                ^\u001b[0m\n\u001b[0;31mSyntaxError\u001b[0m\u001b[0;31m:\u001b[0m invalid syntax\n"
     ]
    }
   ],
   "source": [
    "def check_currancy(price,currancy,exch_rate=.74):\n",
    "    if currancy == 'CAD':\n",
    "        return price*exch_rate\n",
    "    else:\n",
    "        return price"
   ]
  },
  {
   "cell_type": "code",
   "execution_count": null,
   "metadata": {},
   "outputs": [],
   "source": []
  },
  {
   "cell_type": "code",
   "execution_count": null,
   "metadata": {},
   "outputs": [],
   "source": []
  },
  {
   "cell_type": "code",
   "execution_count": null,
   "metadata": {},
   "outputs": [],
   "source": [
    "df1.head()"
   ]
  },
  {
   "cell_type": "code",
   "execution_count": null,
   "metadata": {},
   "outputs": [],
   "source": [
    "df2.head(50)"
   ]
  },
  {
   "cell_type": "code",
   "execution_count": null,
   "metadata": {},
   "outputs": [],
   "source": []
  }
 ],
 "metadata": {
  "kernelspec": {
   "display_name": "Python 3",
   "language": "python",
   "name": "python3"
  },
  "language_info": {
   "codemirror_mode": {
    "name": "ipython",
    "version": 3
   },
   "file_extension": ".py",
   "mimetype": "text/x-python",
   "name": "python",
   "nbconvert_exporter": "python",
   "pygments_lexer": "ipython3",
   "version": "3.7.6"
  }
 },
 "nbformat": 4,
 "nbformat_minor": 4
}
